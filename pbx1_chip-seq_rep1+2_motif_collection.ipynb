{
 "cells": [
  {
   "attachments": {},
   "cell_type": "markdown",
   "id": "1d5853dc",
   "metadata": {},
   "source": [
    "## Program name: pbx1_chip-seq_rep1+2_motif_collection\n",
    "\n",
    "- Version: 2023-10-17\n",
    "- Author: Vera Laub\n",
    "- Stage: Script runs, BUT low p-/ E-values are turned into 0 -> needs to be adapted!\n",
    "- Input: \n",
    "1. .txt with PBX1 ChIP-seq motifs of rep1 (MOTIF_ID\tALT_ID\tCONSENSUS\tCONCENTRATION\tE-VALUE\tWIDTH\tREGION_MATCHES)\n",
    "2. .txt with PBX1 ChIP-seq motifs of rep1+2 200nt summit (MOTIF_ID\tALT_ID\tCONSENSUS\tCONCENTRATION\tE-VALUE\tWIDTH\tREGION_MATCHES)\n",
    "- Output: .txt with combination of information in both files"
   ]
  },
  {
   "cell_type": "code",
   "execution_count": 20,
   "id": "3cf94f3f",
   "metadata": {},
   "outputs": [
    {
     "name": "stdout",
     "output_type": "stream",
     "text": [
      "['MA0782.2\\tPKNOX1\\tNNTGAGTGACAGVNN\\t0.699\\t3.3e-998\\t13\\t1362\\n', 'MA1114.1\\tPBX3\\tNNNTGAGTGACAGGBNN\\t0.6809\\t5.6e-926\\t13\\t1308\\n', '1-TGAKTGACAGSHNNN\\tSTREME-1\\tTGAKTGACAGSHNNN\\t0.7083\\t3.1e-905\\t17\\t1382\\n', 'Meis2_DBD_1\\tnone\\tHTGACAG\\t0.5663\\t2.4e-656\\t15\\t1175\\n', 'Meis3_DBD_1\\tnone\\tHTGACAG\\t0.5496\\t7.3e-653\\t15\\t1201\\n', 'MA0774.1\\tMEIS2\\tTTGACAGS\\t0.5721\\t4.5e-622\\t16\\t1137\\n', 'MEIS2_DBD_2\\tnone\\tTTGACAGS\\t0.5695\\t5.6e-622\\t16\\t1142\\n', 'MA0498.2\\tMEIS1\\tHTGACAD\\t0.5305\\t1.9e-589\\t15\\t1129\\n', 'MEIS1_DBD\\tnone\\tHTGACAD\\t0.53\\t4.8e-588\\t15\\t1128\\n', 'MEIS3_DBD_1\\tnone\\tDTGACAGS\\t0.5144\\t2.4e-529\\t16\\t1089\\n']\n"
     ]
    }
   ],
   "source": [
    "# Set up list of PBX1 ChIP-seq motifs\n",
    "\n",
    "# Retrieve PBX1 ChIP-seq rep1 motifs\n",
    "file = open(\"pbx1_rep1+2_motifs/pbx1_rep1+2_motifs.txt\", \"r\")\n",
    "pbx1_rep1_rep2_motifs = file.readlines()\n",
    "file.close()\n",
    "\n",
    "print(pbx1_rep1_rep2_motifs[:10])"
   ]
  },
  {
   "cell_type": "code",
   "execution_count": 21,
   "id": "2fe433b4",
   "metadata": {},
   "outputs": [
    {
     "name": "stdout",
     "output_type": "stream",
     "text": [
      "[['MA0782.2', 'PKNOX1', 'NNTGAGTGACAGVNN', 0.699, 0.0, 13, 1362], ['MA1114.1', 'PBX3', 'NNNTGAGTGACAGGBNN', 0.6809, 0.0, 13, 1308], ['1-TGAKTGACAGSHNNN', 'STREME-1', 'TGAKTGACAGSHNNN', 0.7083, 0.0, 17, 1382], ['Meis2_DBD_1', 'none', 'HTGACAG', 0.5663, 0.0, 15, 1175], ['Meis3_DBD_1', 'none', 'HTGACAG', 0.5496, 0.0, 15, 1201], ['MA0774.1', 'MEIS2', 'TTGACAGS', 0.5721, 0.0, 16, 1137], ['MEIS2_DBD_2', 'none', 'TTGACAGS', 0.5695, 0.0, 16, 1142], ['MA0498.2', 'MEIS1', 'HTGACAD', 0.5305, 0.0, 15, 1129], ['MEIS1_DBD', 'none', 'HTGACAD', 0.53, 0.0, 15, 1128], ['MEIS3_DBD_1', 'none', 'DTGACAGS', 0.5144, 0.0, 16, 1089]]\n"
     ]
    }
   ],
   "source": [
    "# Iterate over PBX1 rep1 ChIP-seq motifs and store information in list, process data to remove whitepsace    \n",
    "for n in range(0, len(pbx1_rep1_rep2_motifs)):\n",
    "    pbx1_rep1_rep2_motifs[n] = pbx1_rep1_rep2_motifs[n].strip()\n",
    "    pbx1_rep1_rep2_motifs[n] = pbx1_rep1_rep2_motifs[n].split()\n",
    "    pbx1_rep1_rep2_motifs[n][3] = float(pbx1_rep1_rep2_motifs[n][3])\n",
    "    pbx1_rep1_rep2_motifs[n][4] = float(pbx1_rep1_rep2_motifs[n][4])\n",
    "    pbx1_rep1_rep2_motifs[n][5] = int(pbx1_rep1_rep2_motifs[n][5])\n",
    "    pbx1_rep1_rep2_motifs[n][6] = int(pbx1_rep1_rep2_motifs[n][6])\n",
    "\n",
    "print(pbx1_rep1_rep2_motifs[:10])"
   ]
  },
  {
   "cell_type": "code",
   "execution_count": 22,
   "id": "f5fbaa30",
   "metadata": {},
   "outputs": [
    {
     "name": "stdout",
     "output_type": "stream",
     "text": [
      "['MA0782.2\\tPKNOX1\\tNNTGAGTGACAGVNN\\t0.4162\\t5.4e-9768\\t20\\t30500\\n', '1-TGAKTGACAGSHNNN\\tSTREME-1\\tTGAKTGACAGSHNNN\\t0.4254\\t5.6e-9705\\t22\\t30795\\n', 'MA1114.1\\tPBX3\\tNNNTGAGTGACAGGBNN\\t0.4119\\t6.1e-9236\\t18\\t28178\\n', 'MA0774.1\\tMEIS2\\tTTGACAGS\\t0.3742\\t2.8e-8927\\t31\\t37898\\n', 'MEIS2_DBD_2\\tnone\\tTTGACAGS\\t0.3721\\t3.0e-8882\\t31\\t38033\\n', 'Meis3_DBD_1\\tnone\\tHTGACAG\\t0.3474\\t4.9e-8607\\t30\\t40238\\n', 'Meis2_DBD_1\\tnone\\tHTGACAG\\t0.3546\\t4.8e-8559\\t30\\t38783\\n', 'MA0498.2\\tMEIS1\\tHTGACAD\\t0.3391\\t1.5e-7946\\t30\\t38611\\n', 'MEIS1_DBD\\tnone\\tHTGACAD\\t0.339\\t3.6e-7941\\t30\\t38602\\n', 'TGACAGSH\\tMEME-1\\tTGACAGSH\\t0.355\\t2.1e-7858\\t33\\t37046\\n']\n"
     ]
    }
   ],
   "source": [
    "# Set up list of ATAC-seq footprinting motifs\n",
    "\n",
    "# Retrieve ATAC-seq footprinting motifs\n",
    "file = open(\"pbx1_rep1+2_motifs/pbx1_rep1_motifs.txt\", \"r\")\n",
    "pbx1_rep1_motifs = file.readlines()\n",
    "file.close()\n",
    "\n",
    "print(pbx1_rep1_motifs[:10])"
   ]
  },
  {
   "cell_type": "code",
   "execution_count": 23,
   "id": "fdeb4504",
   "metadata": {},
   "outputs": [
    {
     "name": "stdout",
     "output_type": "stream",
     "text": [
      "[['MA0782.2', 'PKNOX1', 'NNTGAGTGACAGVNN', 0.4162, 0.0, 20, 30500], ['1-TGAKTGACAGSHNNN', 'STREME-1', 'TGAKTGACAGSHNNN', 0.4254, 0.0, 22, 30795], ['MA1114.1', 'PBX3', 'NNNTGAGTGACAGGBNN', 0.4119, 0.0, 18, 28178], ['MA0774.1', 'MEIS2', 'TTGACAGS', 0.3742, 0.0, 31, 37898], ['MEIS2_DBD_2', 'none', 'TTGACAGS', 0.3721, 0.0, 31, 38033], ['Meis3_DBD_1', 'none', 'HTGACAG', 0.3474, 0.0, 30, 40238], ['Meis2_DBD_1', 'none', 'HTGACAG', 0.3546, 0.0, 30, 38783], ['MA0498.2', 'MEIS1', 'HTGACAD', 0.3391, 0.0, 30, 38611], ['MEIS1_DBD', 'none', 'HTGACAD', 0.339, 0.0, 30, 38602], ['TGACAGSH', 'MEME-1', 'TGACAGSH', 0.355, 0.0, 33, 37046]]\n"
     ]
    }
   ],
   "source": [
    "# Iterate over PBX1 rep1 ChIP-seq motifs and store information in list, process data to remove whitepsace    \n",
    "for n in range(0, len(pbx1_rep1_motifs)):\n",
    "    pbx1_rep1_motifs[n] = pbx1_rep1_motifs[n].strip()\n",
    "    pbx1_rep1_motifs[n] = pbx1_rep1_motifs[n].split()\n",
    "    pbx1_rep1_motifs[n][3] = float(pbx1_rep1_motifs[n][3])\n",
    "    pbx1_rep1_motifs[n][4] = float(pbx1_rep1_motifs[n][4])\n",
    "    pbx1_rep1_motifs[n][5] = int(pbx1_rep1_motifs[n][5])\n",
    "    pbx1_rep1_motifs[n][6] = int(pbx1_rep1_motifs[n][6])\n",
    "\n",
    "print(pbx1_rep1_motifs[:10])"
   ]
  },
  {
   "cell_type": "code",
   "execution_count": 24,
   "id": "1e8a30b5",
   "metadata": {},
   "outputs": [
    {
     "name": "stdout",
     "output_type": "stream",
     "text": [
      "[['MOTIF_ID', 'ALT_ID', 'PBX1 rep1+2 CONSENSUS', 'PBX1 rep1+2 CONCENTRATION', 'PBX1 rep1+2 E-VALUE', 'PBX1 rep1+2 WIDTH', 'PBX1 rep1+2 REGION_MATCHES', 'PBX1 rep1 CONSENSUS', 'PBX1 rep1 CONCENTRATION', 'PBX1 rep1 E-VALUE', 'PBX1 rep1 WIDTH', 'PBX1 rep1 REGION_MATCHES'], ['MA0782.2', 'PKNOX1', 'NNTGAGTGACAGVNN', 0.699, 0.0, 13, 1362, 'NNTGAGTGACAGVNN', 0.4162, 0.0, 20, 30500], ['MA1114.1', 'PBX3', 'NNNTGAGTGACAGGBNN', 0.6809, 0.0, 13, 1308, 'NNNTGAGTGACAGGBNN', 0.4119, 0.0, 18, 28178], ['1-TGAKTGACAGSHNNN', 'STREME-1', 'TGAKTGACAGSHNNN', 0.7083, 0.0, 17, 1382, 'TGAKTGACAGSHNNN', 0.4254, 0.0, 22, 30795], ['Meis2_DBD_1', 'none', 'HTGACAG', 0.5663, 0.0, 15, 1175, 'HTGACAG', 0.3546, 0.0, 30, 38783], ['Meis3_DBD_1', 'none', 'HTGACAG', 0.5496, 0.0, 15, 1201, 'HTGACAG', 0.3474, 0.0, 30, 40238], ['MA0774.1', 'MEIS2', 'TTGACAGS', 0.5721, 0.0, 16, 1137, 'TTGACAGS', 0.3742, 0.0, 31, 37898], ['MEIS2_DBD_2', 'none', 'TTGACAGS', 0.5695, 0.0, 16, 1142, 'TTGACAGS', 0.3721, 0.0, 31, 38033], ['MA0498.2', 'MEIS1', 'HTGACAD', 0.5305, 0.0, 15, 1129, 'HTGACAD', 0.3391, 0.0, 30, 38611], ['MEIS1_DBD', 'none', 'HTGACAD', 0.53, 0.0, 15, 1128, 'HTGACAD', 0.339, 0.0, 30, 38602]]\n"
     ]
    }
   ],
   "source": [
    "# Function to combine motif information of PBX1 ChIP-seq and ATAC-seq footprinting motifs \n",
    "\n",
    "def motif_combination(pbx1_rep1_rep2_motifs, pbx1_rep1_motifs, output_list):\n",
    "    k = 0\n",
    "    for line in range(len(pbx1_rep1_rep2_motifs)):\n",
    "        i = 0\n",
    "        for line in range(len(pbx1_rep1_motifs)):\n",
    "            if pbx1_rep1_rep2_motifs[k][0] == pbx1_rep1_motifs[i][0]:\n",
    "                output_list.append([pbx1_rep1_rep2_motifs[k][0], \\\n",
    "                                    pbx1_rep1_rep2_motifs[k][1], \\\n",
    "                                    pbx1_rep1_rep2_motifs[k][2], \\\n",
    "                                    pbx1_rep1_rep2_motifs[k][3], \\\n",
    "                                    pbx1_rep1_rep2_motifs[k][4], \\\n",
    "                                    pbx1_rep1_rep2_motifs[k][5], \\\n",
    "                                    pbx1_rep1_rep2_motifs[k][6], \\\n",
    "                                    pbx1_rep1_motifs[i][2], \\\n",
    "                                    pbx1_rep1_motifs[i][3], \\\n",
    "                                    pbx1_rep1_motifs[i][4], \\\n",
    "                                    pbx1_rep1_motifs[i][5], \\\n",
    "                                    pbx1_rep1_motifs[i][6]])\n",
    "            i += 1\n",
    "        k += 1\n",
    "    return output_list\n",
    "                                    \n",
    "\n",
    "# Define output list for collected motifs and store information in this list (of lists)\n",
    "combined_motif_list = [[\"MOTIF_ID\", \"ALT_ID\", \"PBX1 rep1+2 CONSENSUS\", \"PBX1 rep1+2 CONCENTRATION\", \n",
    "                        \"PBX1 rep1+2 E-VALUE\", \"PBX1 rep1+2 WIDTH\", \"PBX1 rep1+2 REGION_MATCHES\",\n",
    "                        \"PBX1 rep1 CONSENSUS\", \"PBX1 rep1 CONCENTRATION\", \n",
    "                        \"PBX1 rep1 E-VALUE\", \"PBX1 rep1 WIDTH\", \"PBX1 rep1 REGION_MATCHES\"]]\n",
    "\n",
    "combined_motif_list = motif_combination(pbx1_rep1_rep2_motifs, pbx1_rep1_motifs, combined_motif_list)\n",
    "\n",
    "print(combined_motif_list[:10])"
   ]
  },
  {
   "cell_type": "code",
   "execution_count": 26,
   "id": "81cf64ed",
   "metadata": {},
   "outputs": [],
   "source": [
    "# Save combined information on PBX1 ChIP-seq and ATAC-seq footprint motifs in output file\n",
    "pbx1_rep1_rep2_motifs_combined = open(\"pbx1_rep1+2_motifs/pbx1_rep1_rep2_motifs_combined.txt\", \"w\")\n",
    "\n",
    "def construct_combination_motif_file(combined_motifs):\n",
    "    k = 0\n",
    "    for line in range(len(combined_motifs)):\n",
    "        pbx1_rep1_rep2_motifs_combined.write(str(combined_motifs[k][0]) + \"\\t\" + \\\n",
    "                                             str(combined_motifs[k][1]) + \"\\t\" + \\\n",
    "                                             str(combined_motifs[k][2]) + \"\\t\" + \\\n",
    "                                             str(combined_motifs[k][3]) + \"\\t\" + \\\n",
    "                                             str(combined_motifs[k][4]) + \"\\t\" + \\\n",
    "                                             str(combined_motifs[k][5]) + \"\\t\" + \\\n",
    "                                             str(combined_motifs[k][6]) + \"\\t\" + \\\n",
    "                                             str(combined_motifs[k][7]) + \"\\t\" + \\\n",
    "                                             str(combined_motifs[k][8]) + \"\\t\" + \\\n",
    "                                             str(combined_motifs[k][9]) + \"\\t\" + \\\n",
    "                                             str(combined_motifs[k][10]) + \"\\t\" + \\\n",
    "                                             str(combined_motifs[k][11]) + \"\\n\")\n",
    "        k += 1\n",
    "    return pbx1_rep1_rep2_motifs_combined\n",
    "\n",
    "construct_combination_motif_file(combined_motif_list)\n",
    "pbx1_rep1_rep2_motifs_combined.close()"
   ]
  }
 ],
 "metadata": {
  "kernelspec": {
   "display_name": "Python 3 (ipykernel)",
   "language": "python",
   "name": "python3"
  },
  "language_info": {
   "codemirror_mode": {
    "name": "ipython",
    "version": 3
   },
   "file_extension": ".py",
   "mimetype": "text/x-python",
   "name": "python",
   "nbconvert_exporter": "python",
   "pygments_lexer": "ipython3",
   "version": "3.8.10"
  }
 },
 "nbformat": 4,
 "nbformat_minor": 5
}
