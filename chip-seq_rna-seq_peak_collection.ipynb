{
 "cells": [
  {
   "cell_type": "markdown",
   "id": "9de1b51e",
   "metadata": {},
   "source": [
    "# Program name: ChIP-seq peak collection of gene set from RNA-seq experiment\n",
    "\n",
    "- Version: 2023-02-20\n",
    "- Author: Vera Laub\n",
    "- Stage: complete\n",
    "- Input: .txt with RNA-Seq data (ENSEMBLE ID, Gene ID, Fold change), .txt files with ChIP-seq data (Gene ID, peak chr, peak start, peak stop, summit chr, summit start, summit stop)\n",
    "- Output: .bed files with ChIP-seq peaks of all genes defined in RNA-seq file (peak chr, peak start, peak stop, Gene ID); peaks for up/downregulated genes are saved in separate files; whole peaks and 200nt summit of peaks saved in separate files for subsequent analysis\n",
    "- Description: This program serves the purpose of assembling Genes from an RNA-seq file (1. Input) and collecting the respective ChIP-seq peaks (2. Input), i.e. PBX1 ChIP-seq peaks of genes that are differentially regulated in Pbx1 kd RNA-seq in aNS cells (but can be used on any kind of ChIP/RNA-seq, if necessary data is provided). Code meant to be flexible :)!"
   ]
  },
  {
   "cell_type": "code",
   "execution_count": 1,
   "id": "2702652c",
   "metadata": {},
   "outputs": [
    {
     "name": "stdout",
     "output_type": "stream",
     "text": [
      "['ENSMUSG00000039997\\tIfi203\\t3.47\\n', 'ENSMUSG00000097767\\tMiat\\t3.06\\n', 'ENSMUSG00000010797\\tWnt2\\t2.32\\n', 'ENSMUSG00000024697\\tGna14\\t2.16\\n', 'ENSMUSG00000032291\\tCrabp1\\t2.08\\n', 'ENSMUSG00000044313\\tMab21l3\\t2.08\\n', 'ENSMUSG00000035783\\tActa2\\t2.04\\n', 'ENSMUSG00000002633\\tShh\\t2.04\\n', 'ENSMUSG00000024526\\tCidea\\t2.03\\n', 'ENSMUSG00000050808\\tMuc15\\t2.03\\n', 'ENSMUSG00000063297\\tLuzp2\\t1.98\\n', 'ENSMUSG00000049892\\tRasd1\\t1.97\\n', 'ENSMUSG00000035864\\tSyt1\\t1.94\\n', 'ENSMUSG00000053846\\tLipg\\t1.94\\n', 'ENSMUSG00000048834\\tVstm2a\\t1.94\\n', 'ENSMUSG00000056158\\tCar10\\t1.92\\n', 'ENSMUSG00000050711\\tScg2\\t1.92\\n', 'ENSMUSG00000090061\\tNwd2\\t1.87\\n', 'ENSMUSG00000001333\\tSync\\t1.84\\n', 'ENSMUSG00000009734\\tPou6f2\\t1.83\\n', 'ENSMUSG00000091956\\tC2cd4b\\t1.81\\n', 'ENSMUSG00000030092\\tCntn6\\t1.81\\n', 'ENSMUSG00000039717\\tRalyl\\t1.79\\n', 'ENSMUSG00000050359\\tSprr1a\\t1.77\\n', 'ENSMUSG00000032085\\tTagln\\t1.70\\n', 'ENSMUSG00000068614\\tActc1\\t1.67\\n', 'ENSMUSG00000055026\\tGabrg3\\t1.67\\n', 'ENSMUSG00000106826\\tGm42583\\t1.63\\n', 'ENSMUSG00000024172\\tSt6gal2\\t1.63\\n', 'ENSMUSG00000064023\\tKlk8\\t1.62\\n', 'ENSMUSG00000067586\\tS1pr3\\t1.60\\n', 'ENSMUSG00000105378\\tGm42515\\t1.60\\n', 'ENSMUSG00000036353\\tP2ry12\\t1.60\\n', 'ENSMUSG00000021097\\tClmn\\t1.58\\n', 'ENSMUSG00000021219\\tRgs6\\t1.54\\n', 'ENSMUSG00000063430\\tWscd2\\t1.53\\n', 'ENSMUSG00000020080\\tHkdc1\\t1.52\\n', 'ENSMUSG00000034825\\tNrip3\\t1.52\\n', 'ENSMUSG00000024659\\tAnxa1\\t1.52\\n', 'ENSMUSG00000039508\\tCalhm4\\t1.46\\n', 'ENSMUSG00000030209\\tGrin2b\\t1.46\\n', 'ENSMUSG00000042607\\tAsb4\\t1.46\\n', 'ENSMUSG00000045875\\tAdra1a\\t1.46\\n', 'ENSMUSG00000044042\\tFmn1\\t1.45\\n', 'ENSMUSG00000052372\\tIl1rapl1\\t1.44\\n', 'ENSMUSG00000043456\\tZfp536\\t1.40\\n', 'ENSMUSG00000026077\\tNpas2\\t1.39\\n', 'ENSMUSG00000045954\\tCavin2\\t1.39\\n', 'ENSMUSG00000022494\\tShisa9\\t1.39\\n', 'ENSMUSG00000033966\\tCdkl4\\t1.36\\n', 'ENSMUSG00000066392\\tNrxn3\\t1.35\\n', 'ENSMUSG00000027947\\tIl6ra\\t1.35\\n', 'ENSMUSG00000032796\\tLama1\\t1.34\\n', 'ENSMUSG00000040152\\tThbs1\\t1.34\\n', 'ENSMUSG00000042567\\tNek10\\t1.34\\n', 'ENSMUSG00000019852\\tArfgef3\\t1.33\\n', 'ENSMUSG00000021509\\tSlc25a48\\t1.33\\n', 'ENSMUSG00000059555\\tTor4a\\t1.32\\n', 'ENSMUSG00000038128\\tCamk4\\t1.30\\n', 'ENSMUSG00000037016\\tFrem2\\t1.30\\n', 'ENSMUSG00000027931\\tNpr1\\t1.30\\n', 'ENSMUSG00000022180\\tSlc7a8\\t1.29\\n', 'ENSMUSG00000067818\\tMyl9\\t1.28\\n', 'ENSMUSG00000004415\\tCol26a1\\t1.28\\n', 'ENSMUSG00000049420\\tTmem200a\\t1.28\\n', 'ENSMUSG00000092083\\tKcnb2\\t1.27\\n', 'ENSMUSG00000042453\\tReln\\t1.26\\n', 'ENSMUSG00000038188\\tScarf1\\t1.25\\n', 'ENSMUSG00000019846\\tLama4\\t1.25\\n', 'ENSMUSG00000060882\\tKcnd2\\t1.23\\n', 'ENSMUSG00000021700\\tRab3c\\t1.23\\n', 'ENSMUSG00000049176\\tFrmpd4\\t1.22\\n', 'ENSMUSG00000038453\\tSrcin1\\t1.22\\n', 'ENSMUSG00000029816\\tGpnmb\\t1.21\\n', 'ENSMUSG00000020524\\tGria1\\t1.19\\n', 'ENSMUSG00000049630\\tC1ql3\\t1.17\\n', 'ENSMUSG00000028351\\tBrinp1\\t1.16\\n', 'ENSMUSG00000052125\\tF730043M19Rik\\t1.15\\n', 'ENSMUSG00000021379\\tId4\\t1.15\\n', 'ENSMUSG00000074796\\tSlc4a11\\t1.14\\n', 'ENSMUSG00000049872\\tCalhm5\\t1.14\\n', 'ENSMUSG00000029413\\tNaaa\\t1.13\\n', 'ENSMUSG00000050335\\tLgals3\\t1.13\\n', 'ENSMUSG00000037428\\tVgf\\t1.12\\n', 'ENSMUSG00000057378\\tRyr3\\t1.12\\n', 'ENSMUSG00000019997\\tCcn2\\t1.11\\n', 'ENSMUSG00000027220\\tSyt13\\t1.10\\n', 'ENSMUSG00000016262\\tSertad4\\t1.09\\n', 'ENSMUSG00000026398\\tNr5a2\\t1.08\\n', 'ENSMUSG00000031502\\tCol4a1\\t1.08\\n', 'ENSMUSG00000035493\\tTgfbi\\t1.07\\n', 'ENSMUSG00000032204\\tAqp9\\t1.06\\n', 'ENSMUSG00000022311\\tCsmd3\\t1.06\\n', 'ENSMUSG00000005125\\tNdrg1\\t1.06\\n', 'ENSMUSG00000052613\\tPcdh15\\t1.06\\n', 'ENSMUSG00000034981\\tParm1\\t1.05\\n', 'ENSMUSG00000001506\\tCol1a1\\t1.05\\n', 'ENSMUSG00000041592\\tSdk2\\t1.04\\n', 'ENSMUSG00000063434\\tSorcs3\\t1.03\\n', 'ENSMUSG00000040855\\tReps2\\t1.03\\n', 'ENSMUSG00000052572\\tDlg2\\t1.03\\n', 'ENSMUSG00000025889\\tSnca\\t1.02\\n', 'ENSMUSG00000045094\\tArhgef37\\t1.02\\n', 'ENSMUSG00000035615\\tFrmpd1\\t1.02\\n', 'ENSMUSG00000052688\\tRab7b\\t1.01\\n', 'ENSMUSG00000055782\\tAbcd2\\t1.00\\n', 'ENSMUSG00000005338\\tCadm3\\t1.00\\n', 'ENSMUSG00000036006\\tRipor2\\t1.00\\n', 'ENSMUSG00000022231\\tSema5a\\t1.00\\n', 'ENSMUSG00000019789\\tHey2\\t0.99\\n', 'ENSMUSG00000022636\\tAlcam\\t0.99\\n', 'ENSMUSG00000020173\\tCobl\\t0.98\\n', 'ENSMUSG00000020181\\tNav3\\t0.97\\n', 'ENSMUSG00000044770\\tScml4\\t0.97\\n', 'ENSMUSG00000014846\\tTppp3\\t0.96\\n', 'ENSMUSG00000042671\\tRgs8\\t0.95\\n', 'ENSMUSG00000071847\\tApcdd1\\t0.95\\n', 'ENSMUSG00000003153\\tSlc2a3\\t0.95\\n', 'ENSMUSG00000022044\\tStmn4\\t0.95\\n', 'ENSMUSG00000049252\\tLrp1b\\t0.94\\n', 'ENSMUSG00000033174\\tMgll\\t0.94\\n', 'ENSMUSG00000036437\\tNpy1r\\t0.93\\n', 'ENSMUSG00000041073\\tNacad\\t0.93\\n', 'ENSMUSG00000026185\\tIgfbp5\\t0.92\\n', 'ENSMUSG00000001119\\tCol6a1\\t0.90\\n', 'ENSMUSG00000028270\\tGbp2\\t0.90\\n', 'ENSMUSG00000061576\\tDpp6\\t0.90\\n', 'ENSMUSG00000027612\\tMmp24\\t0.90\\n', 'ENSMUSG00000089809\\tRasgef1b\\t0.90\\n', 'ENSMUSG00000035509\\tFbxl21\\t0.89\\n', 'ENSMUSG00000035131\\tBrinp3\\t0.89\\n', 'ENSMUSG00000055202\\tZfp811\\t0.88\\n', 'ENSMUSG00000032841\\tPrr5l\\t0.88\\n', 'ENSMUSG00000028358\\tZfp618\\t0.87\\n', 'ENSMUSG00000029231\\tPdgfra\\t0.87\\n', 'ENSMUSG00000042793\\tLgr6\\t0.87\\n', 'ENSMUSG00000033147\\tSlc22a15\\t0.87\\n', 'ENSMUSG00000005397\\tNid1\\t0.86\\n', 'ENSMUSG00000003032\\tKlf4\\t0.86\\n', 'ENSMUSG00000022565\\tPlec\\t0.86\\n', 'ENSMUSG00000044164\\tRnf182\\t0.86\\n', 'ENSMUSG00000030170\\tWnt5b\\t0.85\\n', 'ENSMUSG00000028214\\tGem\\t0.85\\n', 'ENSMUSG00000033342\\tPlppr5\\t0.85\\n', 'ENSMUSG00000044117\\tBmerb1\\t0.85\\n', 'ENSMUSG00000042035\\tIgsf3\\t0.84\\n', 'ENSMUSG00000017446\\tC1qtnf1\\t0.84\\n', 'ENSMUSG00000070532\\tCcdc190\\t0.83\\n', 'ENSMUSG00000060988\\tGalnt13\\t0.83\\n', 'ENSMUSG00000026764\\tKif5c\\t0.83\\n', 'ENSMUSG00000025092\\tHspa12a\\t0.82\\n', 'ENSMUSG00000002900\\tLamb1\\t0.81\\n', 'ENSMUSG00000042751\\tNmnat2\\t0.81\\n', 'ENSMUSG00000030782\\tTgfb1i1\\t0.81\\n', 'ENSMUSG00000003545\\tFosb\\t0.81\\n', 'ENSMUSG00000018604\\tTbx3\\t0.80\\n', 'ENSMUSG00000024261\\tSyt4\\t0.79\\n', 'ENSMUSG00000031027\\tStk33\\t0.78\\n', 'ENSMUSG00000038530\\tRgs4\\t0.78\\n', 'ENSMUSG00000045349\\tSh2d5\\t0.78\\n', 'ENSMUSG00000021196\\tPfkp\\t0.78\\n', 'ENSMUSG00000039115\\tItga9\\t0.77\\n', 'ENSMUSG00000029168\\tDpysl5\\t0.77\\n', 'ENSMUSG00000097801\\tGm26777\\t0.77\\n', 'ENSMUSG00000041957\\tPkp2\\t0.77\\n', 'ENSMUSG00000031618\\tNr3c2\\t0.77\\n', 'ENSMUSG00000036298\\tSlc2a13\\t0.76\\n', 'ENSMUSG00000052516\\tRobo2\\t0.76\\n', 'ENSMUSG00000048218\\tAmigo2\\t0.76\\n', 'ENSMUSG00000002266\\tZim1\\t0.76\\n', 'ENSMUSG00000046312\\tMyorg\\t0.75\\n', 'ENSMUSG00000030616\\tSytl2\\t0.75\\n', 'ENSMUSG00000060568\\tFam78b\\t0.73\\n', 'ENSMUSG00000063142\\tKcnma1\\t0.73\\n', 'ENSMUSG00000062380\\tTubb3\\t0.73\\n', 'ENSMUSG00000026072\\tIl1r1\\t0.72\\n', 'ENSMUSG00000044519\\tZfp488\\t0.72\\n', 'ENSMUSG00000062991\\tNrg1\\t0.72\\n', 'ENSMUSG00000029814\\tIgf2bp3\\t0.71\\n', 'ENSMUSG00000025780\\tItih5\\t0.71\\n', 'ENSMUSG00000053199\\tArhgap20\\t0.71\\n', 'ENSMUSG00000021895\\tArhgef3\\t0.70\\n', 'ENSMUSG00000051343\\tRab11fip5\\t0.70\\n', 'ENSMUSG00000066800\\tRnasel\\t0.70\\n', 'ENSMUSG00000062209\\tErbb4\\t0.70\\n', 'ENSMUSG00000033730\\tEgr3\\t0.69\\n', 'ENSMUSG00000020486\\tSeptin4\\t0.69\\n', 'ENSMUSG00000063531\\tSema3e\\t0.69\\n', 'ENSMUSG00000042757\\tTmem108\\t0.68\\n', 'ENSMUSG00000020053\\tIgf1\\t0.68\\n', 'ENSMUSG00000018800\\tAbca5\\t0.68\\n', 'ENSMUSG00000031028\\tTub\\t0.67\\n', 'ENSMUSG00000037868\\tEgr2\\t0.67\\n', 'ENSMUSG00000023473\\tCelsr3\\t0.67\\n', 'ENSMUSG00000031748\\tGnao1\\t0.67\\n', 'ENSMUSG00000058589\\tAnks1b\\t0.66\\n', 'ENSMUSG00000048402\\tGli2\\t0.66\\n', 'ENSMUSG00000001663\\tGstt1\\t0.65\\n', 'ENSMUSG00000039706\\tLdb2\\t0.65\\n', 'ENSMUSG00000004113\\tCacna1b\\t0.65\\n', 'ENSMUSG00000025020\\tSlit1\\t0.65\\n', 'ENSMUSG00000039546\\tAjap1\\t0.65\\n', 'ENSMUSG00000031503\\tCol4a2\\t0.64\\n', 'ENSMUSG00000055022\\tCntn1\\t0.64\\n', 'ENSMUSG00000000308\\tCkmt1\\t0.64\\n', 'ENSMUSG00000025592\\tDach2\\t0.64\\n', 'ENSMUSG00000040972\\tIgsf21\\t0.63\\n', 'ENSMUSG00000051323\\tPcdh19\\t0.63\\n', 'ENSMUSG00000037306\\tMan1c1\\t0.63\\n', 'ENSMUSG00000038296\\tGalnt18\\t0.62\\n', 'ENSMUSG00000037754\\tPpp1r16b\\t0.62\\n', 'ENSMUSG00000048078\\tTenm4\\t0.62\\n', 'ENSMUSG00000028195\\tCcn1\\t0.62\\n', 'ENSMUSG00000024867\\tPip5k1b\\t0.62\\n', 'ENSMUSG00000027309\\t4930402H24Rik\\t0.61\\n', 'ENSMUSG00000027834\\tSerpini1\\t0.61\\n', 'ENSMUSG00000057716\\tTmem178b\\t0.61\\n', 'ENSMUSG00000028328\\tTmod1\\t0.60\\n', 'ENSMUSG00000020032\\tNuak1\\t0.60\\n', 'ENSMUSG00000040717\\tIl17rd\\t0.59\\n', 'ENSMUSG00000040659\\tEfhd2\\t0.59\\n', 'ENSMUSG00000003410\\tElavl3\\t0.59\\n', 'ENSMUSG00000024534\\tSncaip\\t0.59\\n', 'ENSMUSG00000028654\\tMycl\\t0.59\\n', 'ENSMUSG00000025969\\tNrp2\\t0.59\\n', 'ENSMUSG00000034336\\tIna\\t0.58\\n', 'ENSMUSG00000021573\\tTppp\\t0.58\\n', 'ENSMUSG00000035277\\tArx\\t0.58\\n', 'ENSMUSG00000018411\\tMapt\\t0.58\\n', 'ENSMUSG00000029878\\tDbpht2\\t0.58\\n', 'ENSMUSG00000022197\\tPdzd2\\t0.57\\n', 'ENSMUSG00000047361\\tGm973\\t0.57\\n', 'ENSMUSG00000029304\\tSpp1\\t0.57\\n', 'ENSMUSG00000028399\\tPtprd\\t0.57\\n', 'ENSMUSG00000020121\\tSrgap1\\t0.57\\n', 'ENSMUSG00000031647\\tMfap3l\\t0.57\\n', 'ENSMUSG00000049225\\tPdp1\\t0.56\\n', 'ENSMUSG00000069170\\tAdgrv1\\t0.56\\n', 'ENSMUSG00000046159\\tChrm3\\t0.56\\n', 'ENSMUSG00000033737\\tFndc3c1\\t0.56\\n', 'ENSMUSG00000001334\\tFndc5\\t0.55\\n', 'ENSMUSG00000039960\\tRhou\\t0.55\\n', 'ENSMUSG00000049409\\tProkr1\\t0.55\\n', 'ENSMUSG00000034156\\tTspoap1\\t0.54\\n', 'ENSMUSG00000043336\\tFilip1l\\t0.54\\n', 'ENSMUSG00000028179\\tCth\\t0.54\\n', 'ENSMUSG00000027035\\tCers6\\t0.53\\n', 'ENSMUSG00000034957\\tCebpa\\t0.53\\n', 'ENSMUSG00000071862\\tLrrtm2\\t0.53\\n', 'ENSMUSG00000060487\\tSamd5\\t0.53\\n', 'ENSMUSG00000004665\\tCnn2\\t0.53\\n', 'ENSMUSG00000049866\\tArl4c\\t0.53\\n', 'ENSMUSG00000037169\\tMycn\\t0.52\\n', 'ENSMUSG00000025283\\tSat1\\t0.52\\n', 'ENSMUSG00000031778\\tCx3cl1\\t0.52\\n', 'ENSMUSG00000004035\\tGstm7\\t0.52\\n', 'ENSMUSG00000001985\\tGrik3\\t0.52\\n', 'ENSMUSG00000028354\\tFmn2\\t0.52\\n', 'ENSMUSG00000056749\\tNfil3\\t0.52\\n', 'ENSMUSG00000030257\\tSrgap3\\t0.52\\n', 'ENSMUSG00000073802\\tCdkn2b\\t0.51\\n', 'ENSMUSG00000025856\\tPdgfa\\t0.51\\n', 'ENSMUSG00000094910\\tD430019H16Rik\\t0.51\\n', 'ENSMUSG00000037031\\tTspan15\\t0.51\\n', 'ENSMUSG00000110080\\tGm6145\\t0.51\\n', 'ENSMUSG00000048612\\tMyof\\t0.50\\n', 'ENSMUSG00000039910\\tCited2\\t0.50\\n', 'ENSMUSG00000047786\\tLix1\\t0.49\\n', 'ENSMUSG00000041119\\tPde9a\\t0.49\\n', 'ENSMUSG00000025348\\tItga7\\t0.49\\n', 'ENSMUSG00000006705\\tPknox1\\t0.49\\n', 'ENSMUSG00000003228\\tGrk5\\t0.48\\n', 'ENSMUSG00000026768\\tItga8\\t0.48\\n', 'ENSMUSG00000044626\\tLiph\\t0.48\\n', 'ENSMUSG00000035863\\tPalm\\t0.48\\n', 'ENSMUSG00000040624\\tPlekhg1\\t0.48\\n', 'ENSMUSG00000022629\\tKif21a\\t0.48\\n', 'ENSMUSG00000028655\\tMfsd2a\\t0.47\\n', 'ENSMUSG00000061751\\tKalrn\\t0.47\\n', 'ENSMUSG00000102543\\tPcdhgc5\\t0.46\\n', 'ENSMUSG00000040511\\tPvr\\t0.46\\n', 'ENSMUSG00000044952\\tKctd21\\t0.45\\n', 'ENSMUSG00000024462\\tGabbr1\\t0.45\\n', 'ENSMUSG00000098659\\t1110015O18Rik\\t0.45\\n', 'ENSMUSG00000000794\\tKcnn3\\t0.45\\n', 'ENSMUSG00000031673\\tCdh11\\t0.45\\n', 'ENSMUSG00000034265\\tZdhhc14\\t0.44\\n', 'ENSMUSG00000023809\\tRps6ka2\\t0.44\\n', 'ENSMUSG00000030428\\tTtyh1\\t0.44\\n', 'ENSMUSG00000106379\\tLhfpl3\\t0.44\\n', 'ENSMUSG00000002897\\tIl17ra\\t0.44\\n', 'ENSMUSG00000037946\\tFgd3\\t0.44\\n', 'ENSMUSG00000036206\\tSh3bp4\\t0.44\\n', 'ENSMUSG00000042807\\tHecw2\\t0.44\\n', 'ENSMUSG00000085007\\tGm11549\\t0.44\\n', 'ENSMUSG00000062661\\tNcs1\\t0.43\\n', 'ENSMUSG00000016918\\tSulf1\\t0.43\\n', 'ENSMUSG00000055116\\tArntl\\t0.43\\n', 'ENSMUSG00000019796\\tLrp11\\t0.43\\n', 'ENSMUSG00000055717\\tSlain1\\t0.43\\n', 'ENSMUSG00000092035\\tPeg10\\t0.43\\n', 'ENSMUSG00000028176\\tLrrc7\\t0.43\\n', 'ENSMUSG00000071708\\tSms\\t0.42\\n', 'ENSMUSG00000029093\\tSorcs2\\t0.42\\n', 'ENSMUSG00000009394\\tSyn2\\t0.42\\n', 'ENSMUSG00000046768\\tRhoj\\t0.42\\n', 'ENSMUSG00000024593\\tMegf10\\t0.42\\n', 'ENSMUSG00000060534\\tDcc\\t0.42\\n', 'ENSMUSG00000112941\\tGm48623\\t0.42\\n', 'ENSMUSG00000022382\\tWnt7b\\t0.41\\n', 'ENSMUSG00000015143\\tActn1\\t0.41\\n', 'ENSMUSG00000022788\\tFgd4\\t0.41\\n', 'ENSMUSG00000044288\\tCnr1\\t0.41\\n', 'ENSMUSG00000015829\\tTnr\\t0.41\\n', 'ENSMUSG00000026442\\tNfasc\\t0.40\\n', 'ENSMUSG00000038831\\tRalgps1\\t0.40\\n', 'ENSMUSG00000034591\\tSlc41a2\\t0.40\\n', 'ENSMUSG00000055407\\tMap6\\t0.40\\n', 'ENSMUSG00000034413\\tNeurl1b\\t0.40\\n', 'ENSMUSG00000036469\\tMarchf1\\t0.40\\n', 'ENSMUSG00000098557\\tKctd12\\t0.40\\n', 'ENSMUSG00000033578\\tTmem35a\\t0.40\\n', 'ENSMUSG00000027894\\tSlc6a17\\t0.40\\n', 'ENSMUSG00000039976\\tTbc1d16\\t0.40\\n', 'ENSMUSG00000092274\\tNeat1\\t0.40\\n', 'ENSMUSG00000040724\\tKcna2\\t0.40\\n', 'ENSMUSG00000025478\\tDpysl4\\t0.39\\n', 'ENSMUSG00000093460\\tSix3os1\\t0.39\\n', 'ENSMUSG00000031189\\tAff2\\t0.39\\n', 'ENSMUSG00000047205\\tDusp18\\t0.39\\n', 'ENSMUSG00000020521\\tRnft1\\t0.39\\n', 'ENSMUSG00000045589\\tFrrs1l\\t0.39\\n', 'ENSMUSG00000078307\\tAI593442\\t0.39\\n', 'ENSMUSG00000022817\\tItgb5\\t0.39\\n', 'ENSMUSG00000028268\\tGbp3\\t0.39\\n', 'ENSMUSG00000031284\\tPak3\\t0.39\\n', 'ENSMUSG00000031451\\tGas6\\t0.38\\n', 'ENSMUSG00000033854\\tKcnk10\\t0.38\\n', 'ENSMUSG00000049313\\tSorl1\\t0.38\\n', 'ENSMUSG00000096054\\tSyne1\\t0.38\\n', 'ENSMUSG00000048332\\tLhfp\\t0.38\\n', 'ENSMUSG00000050010\\tShisa3\\t0.38\\n', 'ENSMUSG00000001300\\tEfnb2\\t0.37\\n', 'ENSMUSG00000025931\\tPaqr8\\t0.37\\n', 'ENSMUSG00000027293\\tEhd4\\t0.37\\n', 'ENSMUSG00000039601\\tRcan2\\t0.37\\n', 'ENSMUSG00000022514\\tIl1rap\\t0.37\\n', 'ENSMUSG00000037217\\tSyn1\\t0.37\\n', 'ENSMUSG00000032625\\tThsd7a\\t0.37\\n', 'ENSMUSG00000029135\\tFosl2\\t0.36\\n', 'ENSMUSG00000006782\\tCnp\\t0.36\\n', 'ENSMUSG00000032667\\tPon2\\t0.36\\n', 'ENSMUSG00000003617\\tCp\\t0.36\\n', 'ENSMUSG00000039385\\tCdh6\\t0.36\\n', 'ENSMUSG00000027993\\tTrim2\\t0.36\\n', 'ENSMUSG00000030123\\tPlxnd1\\t0.36\\n', 'ENSMUSG00000036466\\tMegf11\\t0.36\\n', 'ENSMUSG00000025321\\tItgb8\\t0.36\\n', 'ENSMUSG00000026932\\tNacc2\\t0.36\\n', 'ENSMUSG00000069670\\tNkain2\\t0.36\\n', 'ENSMUSG00000006445\\tEpha2\\t0.36\\n', 'ENSMUSG00000034687\\tFras1\\t0.36\\n', 'ENSMUSG00000022946\\tDop1b\\t0.35\\n', 'ENSMUSG00000033960\\tJcad\\t0.35\\n', 'ENSMUSG00000030020\\tPrickle2\\t0.35\\n', 'ENSMUSG00000031824\\t6430548M08Rik\\t0.35\\n', 'ENSMUSG00000036790\\tSlitrk2\\t0.35\\n', 'ENSMUSG00000052430\\tBmpr1b\\t0.35\\n', 'ENSMUSG00000073910\\tMob3b\\t0.34\\n', 'ENSMUSG00000043259\\tFam13c\\t0.34\\n', 'ENSMUSG00000006403\\tAdamts4\\t0.34\\n', 'ENSMUSG00000027199\\tGatm\\t0.34\\n', 'ENSMUSG00000055670\\tZzef1\\t0.34\\n', 'ENSMUSG00000040687\\tMadd\\t0.34\\n', 'ENSMUSG00000021130\\tGalnt16\\t0.34\\n', 'ENSMUSG00000034485\\tUaca\\t0.34\\n', 'ENSMUSG00000025278\\tFlnb\\t0.34\\n', 'ENSMUSG00000020038\\tCry1\\t0.34\\n', 'ENSMUSG00000021338\\tCarmil1\\t0.34\\n', 'ENSMUSG00000030111\\tA2m\\t0.34\\n', 'ENSMUSG00000039057\\tMyo16\\t0.34\\n', 'ENSMUSG00000031661\\tNkd1\\t0.33\\n', 'ENSMUSG00000043004\\tGng2\\t0.33\\n', 'ENSMUSG00000033361\\tPrrg3\\t0.33\\n', 'ENSMUSG00000028793\\tRnf19b\\t0.33\\n', 'ENSMUSG00000028278\\tRragd\\t0.33\\n', 'ENSMUSG00000035184\\tFam124a\\t0.33\\n', 'ENSMUSG00000054252\\tFgfr3\\t0.33\\n', 'ENSMUSG00000024140\\tEpas1\\t0.32\\n', 'ENSMUSG00000063063\\tCtnna2\\t0.32\\n', 'ENSMUSG00000022639\\tDubr\\t0.32\\n', 'ENSMUSG00000025867\\tCplx2\\t0.32\\n', 'ENSMUSG00000020388\\tPdlim4\\t0.32\\n', 'ENSMUSG00000049690\\tNckap5\\t0.32\\n', 'ENSMUSG00000031274\\tCol4a5\\t0.32\\n', 'ENSMUSG00000038602\\tSlc35f1\\t0.32\\n', 'ENSMUSG00000026576\\tAtp1b1\\t0.32\\n', 'ENSMUSG00000022358\\tFbxo32\\t0.32\\n', 'ENSMUSG00000022306\\tZfpm2\\t0.31\\n', 'ENSMUSG00000024843\\tChka\\t0.31\\n', 'ENSMUSG00000005089\\tSlc1a2\\t0.31\\n', 'ENSMUSG00000020684\\tRasl10b\\t0.31\\n', 'ENSMUSG00000020841\\tCpd\\t0.31\\n', 'ENSMUSG00000090386\\tMir99ahg\\t0.31\\n', 'ENSMUSG00000090100\\tTtbk2\\t0.31\\n', 'ENSMUSG00000020431\\tAdcy1\\t0.31\\n', 'ENSMUSG00000006651\\tAplp1\\t0.31\\n', 'ENSMUSG00000051236\\tMsrb3\\t0.31\\n', 'ENSMUSG00000020366\\tMapk9\\t0.31\\n', 'ENSMUSG00000021182\\tCcdc88c\\t0.31\\n', 'ENSMUSG00000027654\\tFam83d\\t0.30\\n', 'ENSMUSG00000017466\\tTimp2\\t0.30\\n', 'ENSMUSG00000034171\\tFaah\\t0.30\\n', 'ENSMUSG00000032411\\tTfdp2\\t0.30\\n', 'ENSMUSG00000037605\\tAdgrl3\\t0.30\\n', 'ENSMUSG00000033769\\tExoc6b\\t0.30\\n', 'ENSMUSG00000021198\\tUnc79\\t0.30\\n', 'ENSMUSG00000035934\\tPknox2\\t0.30\\n', 'ENSMUSG00000022122\\tEdnrb\\t0.30\\n', 'ENSMUSG00000031539\\tAp3m2\\t0.29\\n', 'ENSMUSG00000042249\\tGrk3\\t0.29\\n', 'ENSMUSG00000017144\\tRnd3\\t0.29\\n', 'ENSMUSG00000015599\\tTtbk1\\t0.29\\n', 'ENSMUSG00000053819\\tCamk2d\\t0.29\\n', 'ENSMUSG00000037852\\tCpe\\t0.29\\n', 'ENSMUSG00000070733\\tFryl\\t0.29\\n', 'ENSMUSG00000030806\\tStx1b\\t0.29\\n', 'ENSMUSG00000036766\\tDner\\t0.29\\n', 'ENSMUSG00000036192\\tRorb\\t0.29\\n', 'ENSMUSG00000021140\\tPcnx\\t0.29\\n', 'ENSMUSG00000021559\\tDapk1\\t0.28\\n', 'ENSMUSG00000025314\\tPtprj\\t0.28\\n', 'ENSMUSG00000020607\\tLratd1\\t0.28\\n', 'ENSMUSG00000014602\\tKif1a\\t0.28\\n', 'ENSMUSG00000029094\\tAfap1\\t0.28\\n', 'ENSMUSG00000054423\\tCadps\\t0.28\\n', 'ENSMUSG00000058056\\tPalld\\t0.28\\n', 'ENSMUSG00000072568\\tLratd2\\t0.28\\n', 'ENSMUSG00000019647\\tSema6a\\t0.27\\n', 'ENSMUSG00000047446\\tArl4a\\t0.27\\n', 'ENSMUSG00000041112\\tElmo1\\t0.27\\n', 'ENSMUSG00000032220\\tMyo1e\\t0.27\\n', 'ENSMUSG00000020393\\tKremen1\\t0.27\\n', 'ENSMUSG00000027775\\tMfsd1\\t0.26\\n', 'ENSMUSG00000061080\\tLsamp\\t0.26\\n', 'ENSMUSG00000034648\\tLrrn1\\t0.26\\n', 'ENSMUSG00000042429\\tAdora1\\t0.26\\n', 'ENSMUSG00000028194\\tDdah1\\t0.26\\n', 'ENSMUSG00000042700\\tSipa1l1\\t0.26\\n', 'ENSMUSG00000037624\\tKcnk2\\t0.26\\n', 'ENSMUSG00000002489\\tTiam1\\t0.26\\n', 'ENSMUSG00000067786\\tNnat\\t0.26\\n', 'ENSMUSG00000028041\\tAdam15\\t0.26\\n', 'ENSMUSG00000033720\\tSfxn5\\t0.26\\n', 'ENSMUSG00000048720\\tTbc1d12\\t0.25\\n', 'ENSMUSG00000026643\\tNmt2\\t0.25\\n', 'ENSMUSG00000024302\\tDtna\\t0.25\\n', 'ENSMUSG00000013921\\tClip3\\t0.25\\n', 'ENSMUSG00000038267\\tSlc22a23\\t0.25\\n', 'ENSMUSG00000020099\\tUnc5b\\t0.25\\n', 'ENSMUSG00000026781\\tAcbd5\\t0.25\\n', 'ENSMUSG00000021733\\tSlc4a7\\t0.25\\n', 'ENSMUSG00000046818\\tDdit4l\\t0.25\\n', 'ENSMUSG00000021703\\tSerinc5\\t0.25\\n', 'ENSMUSG00000018199\\tRo60\\t0.24\\n', 'ENSMUSG00000025950\\tIdh1\\t0.24\\n', 'ENSMUSG00000048376\\tF2r\\t0.24\\n', 'ENSMUSG00000039835\\tNhsl1\\t0.24\\n', 'ENSMUSG00000055421\\tPcdh9\\t0.24\\n', 'ENSMUSG00000040612\\tIldr2\\t0.24\\n', 'ENSMUSG00000007989\\tFzd3\\t0.24\\n', 'ENSMUSG00000030002\\tDusp11\\t0.24\\n', 'ENSMUSG00000042156\\tDzip1\\t0.24\\n', 'ENSMUSG00000015766\\tEps8\\t0.24\\n', 'ENSMUSG00000010175\\tProx1\\t0.24\\n', 'ENSMUSG00000042506\\tUsp22\\t0.24\\n', 'ENSMUSG00000024112\\tCacna1h\\t0.24\\n', 'ENSMUSG00000025656\\tArhgef9\\t0.24\\n', 'ENSMUSG00000034275\\tIgsf9b\\t0.24\\n', 'ENSMUSG00000029840\\tMtpn\\t0.24\\n', 'ENSMUSG00000031561\\tTenm3\\t0.24\\n', 'ENSMUSG00000030849\\tFgfr2\\t0.24\\n', 'ENSMUSG00000034573\\tPtpn13\\t0.24\\n', 'ENSMUSG00000021047\\tNova1\\t0.24\\n', 'ENSMUSG00000021990\\tSpata13\\t0.23\\n', 'ENSMUSG00000039831\\tArhgap29\\t0.23\\n', 'ENSMUSG00000057530\\tEce1\\t0.23\\n', 'ENSMUSG00000020044\\tTimp3\\t0.23\\n', 'ENSMUSG00000024242\\tMap4k3\\t0.23\\n', 'ENSMUSG00000029121\\tCrmp1\\t0.23\\n', 'ENSMUSG00000046785\\tEpm2aip1\\t0.23\\n', 'ENSMUSG00000061436\\tHipk2\\t0.23\\n', 'ENSMUSG00000027435\\tCd93\\t0.23\\n', 'ENSMUSG00000021009\\tPtpn21\\t0.23\\n', 'ENSMUSG00000027339\\tRassf2\\t0.23\\n', 'ENSMUSG00000041444\\tArhgap32\\t0.22\\n', 'ENSMUSG00000041773\\tEnc1\\t0.22\\n', 'ENSMUSG00000027351\\tSpred1\\t0.22\\n', 'ENSMUSG00000024978\\tGpam\\t0.22\\n', 'ENSMUSG00000020777\\tAcox1\\t0.22\\n', 'ENSMUSG00000041298\\tKatnal1\\t0.22\\n', 'ENSMUSG00000056515\\tRab31\\t0.22\\n', 'ENSMUSG00000075254\\tHeg1\\t0.22\\n', 'ENSMUSG00000020097\\tSgpl1\\t0.22\\n', 'ENSMUSG00000020598\\tNrcam\\t0.22\\n', 'ENSMUSG00000042272\\tSestd1\\t0.22\\n', 'ENSMUSG00000035109\\tShc4\\t0.22\\n', 'ENSMUSG00000036435\\tExoc1\\t0.22\\n', 'ENSMUSG00000000804\\tUsp32\\t0.21\\n', 'ENSMUSG00000051855\\tMest\\t0.21\\n', 'ENSMUSG00000037855\\tZfp365\\t0.21\\n', 'ENSMUSG00000089774\\tSlc5a3\\t0.21\\n', 'ENSMUSG00000032883\\tAcsl3\\t0.21\\n', 'ENSMUSG00000024163\\tMapk8ip3\\t0.21\\n', 'ENSMUSG00000064210\\tAno6\\t0.21\\n', 'ENSMUSG00000022656\\tNectin3\\t0.21\\n', 'ENSMUSG00000038587\\tAkap12\\t0.21\\n', 'ENSMUSG00000027200\\tSema6d\\t0.21\\n', 'ENSMUSG00000034647\\tAnkrd12\\t0.21\\n', 'ENSMUSG00000031822\\tGse1\\t0.21\\n', 'ENSMUSG00000027966\\tCol11a1\\t0.21\\n', 'ENSMUSG00000028207\\tAsph\\t0.20\\n', 'ENSMUSG00000005103\\tWdr1\\t0.20\\n', 'ENSMUSG00000042207\\tKdm5b\\t0.19\\n', 'ENSMUSG00000038127\\tCcdc50\\t0.19\\n', 'ENSMUSG00000028556\\tDock7\\t0.19\\n', 'ENSMUSG00000043496\\tTril\\t0.19\\n', 'ENSMUSG00000032479\\tMap4\\t0.19\\n', 'ENSMUSG00000022272\\tMyo10\\t0.19\\n', 'ENSMUSG00000033161\\tAtp1a1\\t0.19\\n', 'ENSMUSG00000026469\\tXpr1\\t0.19\\n', 'ENSMUSG00000000567\\tSox9\\t0.19\\n', 'ENSMUSG00000029291\\tRufy3\\t0.18\\n', 'ENSMUSG00000020458\\tRtn4\\t0.18\\n', 'ENSMUSG00000032228\\tTcf12\\t0.18\\n', 'ENSMUSG00000024294\\tMib1\\t0.18\\n', 'ENSMUSG00000052298\\tCdc42se2\\t0.18\\n', 'ENSMUSG00000027692\\tTnik\\t0.18\\n', 'ENSMUSG00000000957\\tMmp14\\t0.18\\n', 'ENSMUSG00000030536\\tIqgap1\\t0.18\\n', 'ENSMUSG00000034636\\tZyg11b\\t0.18\\n', 'ENSMUSG00000044033\\tCcdc141\\t0.18\\n', 'ENSMUSG00000035168\\tTanc1\\t0.17\\n', 'ENSMUSG00000027210\\tMeis2\\t0.17\\n', 'ENSMUSG00000018707\\tDync1h1\\t0.17\\n', 'ENSMUSG00000068748\\tPtprz1\\t0.17\\n', 'ENSMUSG00000024598\\tFbn2\\t0.17\\n', 'ENSMUSG00000030516\\tTjp1\\t0.17\\n', 'ENSMUSG00000042613\\tPbxip1\\t0.16\\n', 'ENSMUSG00000027087\\tItgav\\t0.16\\n', 'ENSMUSG00000031328\\tFlna\\t0.16\\n', 'ENSMUSG00000026728\\tVim\\t0.16\\n', 'ENSMUSG00000060206\\tZfp462\\t0.15\\n', 'ENSMUSG00000034158\\tLrrc58\\t0.15\\n', 'ENSMUSG00000041570\\tCamsap2\\t0.15\\n', 'ENSMUSG00000033721\\tVav3\\t0.15\\n', 'ENSMUSG00000021071\\tTrim9\\t0.15\\n', 'ENSMUSG00000002341\\tNcan\\t0.14\\n', 'ENSMUSG00000028649\\tMacf1\\t0.13\\n', 'ENSMUSG00000063077\\tKif1b\\t0.13\\n', 'ENSMUSG00000000184\\tCcnd2\\t-0.14\\n', 'ENSMUSG00000022360\\tAtad2\\t-0.17\\n', 'ENSMUSG00000032536\\tTrak1\\t-0.18\\n', 'ENSMUSG00000025860\\tXiap\\t-0.20\\n', 'ENSMUSG00000025026\\tAdd3\\t-0.20\\n', 'ENSMUSG00000075595\\tZfp652\\t-0.20\\n', 'ENSMUSG00000074925\\tPtar1\\t-0.20\\n', 'ENSMUSG00000072294\\tKlf12\\t-0.21\\n', 'ENSMUSG00000022641\\tBbx\\t-0.21\\n', 'ENSMUSG00000024472\\tDcp2\\t-0.21\\n', 'ENSMUSG00000050730\\tArhgap42\\t-0.21\\n', 'ENSMUSG00000038766\\tGabpb2\\t-0.22\\n', 'ENSMUSG00000033964\\tZbtb41\\t-0.22\\n', 'ENSMUSG00000041147\\tBrca2\\t-0.22\\n', 'ENSMUSG00000026819\\tSlc25a25\\t-0.22\\n', 'ENSMUSG00000085438\\tOip5os1\\t-0.23\\n', 'ENSMUSG00000008734\\tGprc5b\\t-0.23\\n', 'ENSMUSG00000004562\\tArhgef40\\t-0.23\\n', 'ENSMUSG00000027641\\tRbl1\\t-0.23\\n', 'ENSMUSG00000032875\\tArhgef17\\t-0.24\\n', 'ENSMUSG00000024378\\tStard4\\t-0.24\\n', 'ENSMUSG00000055373\\tFut9\\t-0.24\\n', 'ENSMUSG00000075470\\tAlg10b\\t-0.24\\n', 'ENSMUSG00000028403\\tZdhhc21\\t-0.25\\n', 'ENSMUSG00000027168\\tPax6\\t-0.26\\n', 'ENSMUSG00000055660\\tMettl4\\t-0.26\\n', 'ENSMUSG00000006678\\tPola1\\t-0.26\\n', 'ENSMUSG00000058392\\tRrp1b\\t-0.27\\n', 'ENSMUSG00000038271\\tIffo1\\t-0.27\\n', 'ENSMUSG00000040253\\tGbp7\\t-0.27\\n', 'ENSMUSG00000034329\\tBrip1\\t-0.28\\n', 'ENSMUSG00000030929\\tEri2\\t-0.28\\n', 'ENSMUSG00000029309\\tSparcl1\\t-0.28\\n', 'ENSMUSG00000032855\\tPkd1\\t-0.29\\n', 'ENSMUSG00000021704\\tMtx3\\t-0.29\\n', 'ENSMUSG00000028949\\tSmarcd3\\t-0.29\\n', 'ENSMUSG00000031608\\tGalnt7\\t-0.29\\n', 'ENSMUSG00000039994\\tTimeless\\t-0.29\\n', 'ENSMUSG00000044934\\tZfp367\\t-0.29\\n', 'ENSMUSG00000038718\\tPbx3\\t-0.30\\n', 'ENSMUSG00000042606\\tHirip3\\t-0.30\\n', 'ENSMUSG00000037795\\tN4bp2\\t-0.30\\n', 'ENSMUSG00000033998\\tKcnk1\\t-0.30\\n', 'ENSMUSG00000021614\\tVcan\\t-0.30\\n', 'ENSMUSG00000061411\\tNol4l\\t-0.30\\n', 'ENSMUSG00000032788\\tPdxk\\t-0.30\\n', 'ENSMUSG00000036885\\tArhgef26\\t-0.31\\n', 'ENSMUSG00000031016\\tWee1\\t-0.31\\n', 'ENSMUSG00000038685\\tRtel1\\t-0.31\\n', 'ENSMUSG00000085208\\tBrip1os\\t-0.31\\n', 'ENSMUSG00000035365\\tParpbp\\t-0.31\\n', 'ENSMUSG00000038644\\tPold1\\t-0.32\\n', 'ENSMUSG00000030103\\tBhlhe40\\t-0.32\\n', 'ENSMUSG00000021221\\tDpf3\\t-0.32\\n', 'ENSMUSG00000036875\\tDna2\\t-0.32\\n', 'ENSMUSG00000041220\\tElovl6\\t-0.32\\n', 'ENSMUSG00000026443\\tLrrn2\\t-0.32\\n', 'ENSMUSG00000078185\\tChml\\t-0.32\\n', 'ENSMUSG00000019966\\tKitl\\t-0.33\\n', 'ENSMUSG00000015647\\tLama5\\t-0.33\\n', 'ENSMUSG00000079657\\tRab26\\t-0.33\\n', 'ENSMUSG00000025358\\tCdk2\\t-0.33\\n', 'ENSMUSG00000032440\\tTgfbr2\\t-0.34\\n', 'ENSMUSG00000052981\\tUbe2ql1\\t-0.34\\n', 'ENSMUSG00000054263\\tLifr\\t-0.35\\n', 'ENSMUSG00000070802\\tPnmal2\\t-0.35\\n', 'ENSMUSG00000039187\\tFanci\\t-0.35\\n', 'ENSMUSG00000059974\\tNtm\\t-0.35\\n', 'ENSMUSG00000020185\\tE2f7\\t-0.35\\n', 'ENSMUSG00000040721\\tZfhx2\\t-0.35\\n', 'ENSMUSG00000029826\\tZc3hav1\\t-0.36\\n', 'ENSMUSG00000036986\\tPml\\t-0.36\\n', 'ENSMUSG00000057337\\tChst3\\t-0.36\\n', 'ENSMUSG00000023951\\tVegfa\\t-0.36\\n', 'ENSMUSG00000005583\\tMef2c\\t-0.36\\n', 'ENSMUSG00000052056\\tZfp217\\t-0.37\\n', 'ENSMUSG00000008226\\tScrn3\\t-0.38\\n', 'ENSMUSG00000026384\\tPtpn4\\t-0.38\\n', 'ENSMUSG00000026586\\tPrrx1\\t-0.38\\n', 'ENSMUSG00000040312\\tCchcr1\\t-0.38\\n', 'ENSMUSG00000022438\\tParvb\\t-0.38\\n', 'ENSMUSG00000030560\\tCtsc\\t-0.38\\n', 'ENSMUSG00000038146\\tNotch3\\t-0.38\\n', 'ENSMUSG00000027763\\tMbnl1\\t-0.38\\n', 'ENSMUSG00000018217\\tPmp22\\t-0.38\\n', 'ENSMUSG00000027848\\tOlfml3\\t-0.38\\n', 'ENSMUSG00000021180\\tRps6ka5\\t-0.38\\n', 'ENSMUSG00000018983\\tE2f2\\t-0.38\\n', 'ENSMUSG00000029521\\tChek2\\t-0.39\\n', 'ENSMUSG00000022203\\tEfs\\t-0.39\\n', 'ENSMUSG00000025574\\tTk1\\t-0.39\\n', 'ENSMUSG00000044647\\tCsrnp3\\t-0.39\\n', 'ENSMUSG00000019775\\tRgs17\\t-0.39\\n', 'ENSMUSG00000014329\\tBicc1\\t-0.40\\n', 'ENSMUSG00000023961\\tEnpp4\\t-0.40\\n', 'ENSMUSG00000007950\\tAbhd8\\t-0.40\\n', 'ENSMUSG00000036617\\tEtl4\\t-0.40\\n', 'ENSMUSG00000044365\\tCxxc4\\t-0.40\\n', 'ENSMUSG00000034758\\tTle6\\t-0.40\\n', 'ENSMUSG00000004127\\tTrmt10a\\t-0.40\\n', 'ENSMUSG00000059810\\tRgs3\\t-0.40\\n', 'ENSMUSG00000032194\\tKank2\\t-0.41\\n', 'ENSMUSG00000041261\\tCar8\\t-0.41\\n', 'ENSMUSG00000040488\\tLtbp4\\t-0.41\\n', 'ENSMUSG00000049470\\tAff4\\t-0.41\\n', 'ENSMUSG00000022664\\tSlc35a5\\t-0.41\\n', 'ENSMUSG00000028630\\tDyrk2\\t-0.41\\n', 'ENSMUSG00000017493\\tIgfbp4\\t-0.41\\n', 'ENSMUSG00000090125\\tPou3f1\\t-0.42\\n', 'ENSMUSG00000009356\\tLpo\\t-0.42\\n', 'ENSMUSG00000026211\\tObsl1\\t-0.42\\n', 'ENSMUSG00000021175\\tCdca7l\\t-0.42\\n', 'ENSMUSG00000027792\\tBche\\t-0.42\\n', 'ENSMUSG00000040102\\tKlhl42\\t-0.42\\n', 'ENSMUSG00000020728\\tCep112\\t-0.42\\n', 'ENSMUSG00000038319\\tKcnh2\\t-0.43\\n', 'ENSMUSG00000022899\\tSlc15a2\\t-0.43\\n', 'ENSMUSG00000032198\\tDock6\\t-0.43\\n', 'ENSMUSG00000025736\\tJmjd8\\t-0.43\\n', 'ENSMUSG00000023191\\tP3h3\\t-0.44\\n', 'ENSMUSG00000055053\\tNfic\\t-0.44\\n', 'ENSMUSG00000040690\\tCol16a1\\t-0.44\\n', 'ENSMUSG00000028527\\tAk4\\t-0.44\\n', 'ENSMUSG00000024940\\tLtbp3\\t-0.44\\n', 'ENSMUSG00000047216\\tCdh19\\t-0.45\\n', 'ENSMUSG00000029363\\tRfc5\\t-0.45\\n', 'ENSMUSG00000041308\\tSntb2\\t-0.45\\n', 'ENSMUSG00000028766\\tAlpl\\t-0.46\\n', 'ENSMUSG00000064043\\tTrerf1\\t-0.46\\n', 'ENSMUSG00000022389\\tTef\\t-0.46\\n', 'ENSMUSG00000001750\\tTcirg1\\t-0.46\\n', 'ENSMUSG00000010064\\tSlc38a3\\t-0.46\\n', 'ENSMUSG00000044646\\tZbtb7c\\t-0.47\\n', 'ENSMUSG00000059895\\tPtp4a3\\t-0.47\\n', 'ENSMUSG00000029338\\tAntxr2\\t-0.48\\n', 'ENSMUSG00000055817\\tMta3\\t-0.48\\n', 'ENSMUSG00000029238\\tClock\\t-0.49\\n', 'ENSMUSG00000022883\\tRobo1\\t-0.49\\n', 'ENSMUSG00000040818\\tDennd6a\\t-0.49\\n', 'ENSMUSG00000032265\\tTent5a\\t-0.49\\n', 'ENSMUSG00000042846\\tLrrtm3\\t-0.49\\n', 'ENSMUSG00000023367\\tTmem176a\\t-0.49\\n', 'ENSMUSG00000037010\\tApln\\t-0.50\\n', 'ENSMUSG00000042246\\tTmc7\\t-0.50\\n', 'ENSMUSG00000100252\\tMir124-2hg\\t-0.50\\n', 'ENSMUSG00000042284\\tItga1\\t-0.51\\n', 'ENSMUSG00000035847\\tIds\\t-0.52\\n', 'ENSMUSG00000000782\\tTcf7\\t-0.52\\n', 'ENSMUSG00000024191\\tBnip1\\t-0.53\\n', 'ENSMUSG00000026207\\tSpeg\\t-0.53\\n', 'ENSMUSG00000038305\\tSpats2l\\t-0.53\\n', 'ENSMUSG00000087370\\tTmem170b\\t-0.53\\n', 'ENSMUSG00000041688\\tAmot\\t-0.54\\n', 'ENSMUSG00000029185\\tFam114a1\\t-0.56\\n', 'ENSMUSG00000048794\\tCfap100\\t-0.56\\n', 'ENSMUSG00000022018\\tRgcc\\t-0.57\\n', 'ENSMUSG00000025572\\tTmc6\\t-0.57\\n', 'ENSMUSG00000010476\\tEbf3\\t-0.59\\n', 'ENSMUSG00000044966\\tFbxo48\\t-0.59\\n', 'ENSMUSG00000032238\\tRora\\t-0.60\\n', 'ENSMUSG00000106062\\tGm43820\\t-0.61\\n', 'ENSMUSG00000066687\\tZbtb16\\t-0.61\\n', 'ENSMUSG00000029086\\tProm1\\t-0.61\\n', 'ENSMUSG00000025597\\tKlhl4\\t-0.61\\n', 'ENSMUSG00000025582\\tNptx1\\t-0.62\\n', 'ENSMUSG00000015090\\tPtgds\\t-0.62\\n', 'ENSMUSG00000025511\\tTspan4\\t-0.62\\n', 'ENSMUSG00000022103\\tGfra2\\t-0.62\\n', 'ENSMUSG00000057176\\tCcdc189\\t-0.64\\n', 'ENSMUSG00000067215\\tUsp51\\t-0.65\\n', 'ENSMUSG00000047344\\tLancl3\\t-0.65\\n', 'ENSMUSG00000003949\\tHlf\\t-0.65\\n', 'ENSMUSG00000047497\\tAdamts12\\t-0.65\\n', 'ENSMUSG00000057751\\tMegf6\\t-0.66\\n', 'ENSMUSG00000023206\\tIl15ra\\t-0.66\\n', 'ENSMUSG00000020866\\tCacna1g\\t-0.67\\n', 'ENSMUSG00000059824\\tDbp\\t-0.67\\n', 'ENSMUSG00000038578\\tSusd1\\t-0.68\\n', 'ENSMUSG00000022324\\tMatn2\\t-0.68\\n', 'ENSMUSG00000030255\\tSspn\\t-0.68\\n', 'ENSMUSG00000028919\\tArhgef19\\t-0.69\\n', 'ENSMUSG00000068154\\tInsm1\\t-0.69\\n', 'ENSMUSG00000021775\\tNr1d2\\t-0.69\\n', 'ENSMUSG00000063060\\tSox7\\t-0.70\\n', 'ENSMUSG00000032377\\tPlscr4\\t-0.71\\n', 'ENSMUSG00000002147\\tStat6\\t-0.72\\n', 'ENSMUSG00000019718\\tL3hypdh\\t-0.73\\n', 'ENSMUSG00000032332\\tCol12a1\\t-0.75\\n', 'ENSMUSG00000087150\\tBC064078\\t-0.78\\n', 'ENSMUSG00000039037\\tSt6galnac5\\t-0.78\\n', 'ENSMUSG00000021991\\tCacna2d3\\t-0.78\\n', 'ENSMUSG00000033491\\tPrss35\\t-0.79\\n', 'ENSMUSG00000034796\\tCpne7\\t-0.80\\n', 'ENSMUSG00000021061\\tSptb\\t-0.80\\n', 'ENSMUSG00000037003\\tTns2\\t-0.82\\n', 'ENSMUSG00000029919\\tHpgds\\t-0.83\\n', 'ENSMUSG00000042532\\tGolga7b\\t-0.88\\n', 'ENSMUSG00000003849\\tNqo1\\t-0.91\\n', 'ENSMUSG00000036585\\tFgf1\\t-0.91\\n', 'ENSMUSG00000024235\\tMap3k8\\t-0.92\\n', 'ENSMUSG00000031636\\tPdlim3\\t-0.92\\n', 'ENSMUSG00000034853\\tAcot11\\t-0.95\\n', 'ENSMUSG00000027570\\tCol9a3\\t-0.96\\n', 'ENSMUSG00000070469\\tAdamtsl3\\t-1.01\\n', 'ENSMUSG00000028957\\tPer3\\t-1.04\\n', 'ENSMUSG00000037940\\tInpp4b\\t-1.08\\n', 'ENSMUSG00000016349\\tEef1a2\\t-1.15\\n', 'ENSMUSG00000022836\\tMylk\\t-1.19\\n', 'ENSMUSG00000024411\\tAqp4\\t-1.29\\n', 'ENSMUSG00000049511\\tHtr1b\\t-1.29\\n', 'ENSMUSG00000032269\\tHtr3a\\t-1.30\\n']\n"
     ]
    }
   ],
   "source": [
    "# Set up list of genes used for collection of peaks\n",
    "\n",
    "# Retrieve RNA-seq peaks file\n",
    "file = open(\"pbx1_chip_rna_pbx1kd/rna-seq_aNS_pbx1_kd.txt\", \"r\")\n",
    "rna_seq_genes = file.readlines()\n",
    "file.close()\n",
    "\n",
    "#print(rna_seq_genes)"
   ]
  },
  {
   "cell_type": "code",
   "execution_count": 2,
   "id": "58d8cf6f",
   "metadata": {},
   "outputs": [
    {
     "name": "stdout",
     "output_type": "stream",
     "text": [
      "Upregulated genes used for peak collection: ['Ifi203', 'Miat', 'Wnt2', 'Gna14', 'Crabp1', 'Mab21l3', 'Acta2', 'Shh', 'Cidea', 'Muc15']\n",
      "Downregulated genes used for peak collection: ['Ccnd2', 'Atad2', 'Trak1', 'Xiap', 'Add3', 'Zfp652', 'Ptar1', 'Klf12', 'Bbx', 'Dcp2']\n"
     ]
    }
   ],
   "source": [
    "# Iterate over RNA-seq file and store information of genes in list, process data to remove whitepsace    \n",
    "for n in range(0, len(rna_seq_genes)):\n",
    "    rna_seq_genes[n] = rna_seq_genes[n].strip()\n",
    "    rna_seq_genes[n] = rna_seq_genes[n].split()\n",
    "    rna_seq_genes[n][2] = float(rna_seq_genes[n][2])\n",
    "    \n",
    "\n",
    "# Initiate 2 separate list of up-/ downregulated genes\n",
    "genes_id_up = []\n",
    "genes_id_down = []\n",
    "j = 0\n",
    "\n",
    "for line in range(0, len(rna_seq_genes)):\n",
    "    if rna_seq_genes[j][2] > 0:\n",
    "        genes_id_up.append(rna_seq_genes[j][1])\n",
    "        j += 1\n",
    "    elif rna_seq_genes[j][2] < 0:\n",
    "        genes_id_down.append(rna_seq_genes[j][1])\n",
    "        j += 1\n",
    "\n",
    "\n",
    "print(\"Upregulated genes used for peak collection:\", genes_id_up[:10])\n",
    "print(\"Downregulated genes used for peak collection:\", genes_id_down[:10])"
   ]
  },
  {
   "cell_type": "code",
   "execution_count": 3,
   "id": "7c667dcc",
   "metadata": {},
   "outputs": [
    {
     "name": "stdout",
     "output_type": "stream",
     "text": [
      "['Gm10655\\tchr9\\t61368487\\t61372608\\tchr9\\t61370468\\t61370668\\n', 'Xpo1\\tchr11\\t23255159\\t23256311\\tchr11\\t23255740\\t23255940\\n', 'D930016D06Rik\\tchr5\\t104570442\\t104572056\\tchr5\\t104571465\\t104571665\\n', 'Slc39a3\\tchr10\\t81036891\\t81037851\\tchr10\\t81037299\\t81037499\\n', 'Sp2\\tchr11\\t96975685\\t96978462\\tchr11\\t96977668\\t96977868\\n', 'Actr2\\tchr11\\t20112098\\t20113457\\tchr11\\t20112899\\t20113099\\n', 'Dcaf4\\tchr12\\t83520026\\t83520919\\tchr12\\t83520367\\t83520567\\n', 'Acap2\\tchr16\\t31199390\\t31201701\\tchr16\\t31201137\\t31201337\\n', 'Nek7\\tchr1\\t138617295\\t138618621\\tchr1\\t138618062\\t138618262\\n', 'Fbxl19\\tchr7\\t127768548\\t127770250\\tchr7\\t127768904\\t127769104\\n']\n"
     ]
    }
   ],
   "source": [
    "# Set up list of ChIP-seq peaks to collect from\n",
    "\n",
    "# Retrieve ChIP-seq peaks file\n",
    "file = open(\"pbx1_chip_rna_pbx1kd/chip_seq_pbx1_aNS.txt\", \"r\")\n",
    "chip_seq_peaks = file.readlines()\n",
    "file.close()\n",
    "\n",
    "print(chip_seq_peaks[:10])"
   ]
  },
  {
   "cell_type": "code",
   "execution_count": 4,
   "id": "08d91fa6",
   "metadata": {},
   "outputs": [
    {
     "name": "stdout",
     "output_type": "stream",
     "text": [
      "[['Gm10655', 'chr9', '61368487', '61372608', 'chr9', '61370468', '61370668'], ['Xpo1', 'chr11', '23255159', '23256311', 'chr11', '23255740', '23255940'], ['D930016D06Rik', 'chr5', '104570442', '104572056', 'chr5', '104571465', '104571665'], ['Slc39a3', 'chr10', '81036891', '81037851', 'chr10', '81037299', '81037499'], ['Sp2', 'chr11', '96975685', '96978462', 'chr11', '96977668', '96977868'], ['Actr2', 'chr11', '20112098', '20113457', 'chr11', '20112899', '20113099'], ['Dcaf4', 'chr12', '83520026', '83520919', 'chr12', '83520367', '83520567'], ['Acap2', 'chr16', '31199390', '31201701', 'chr16', '31201137', '31201337'], ['Nek7', 'chr1', '138617295', '138618621', 'chr1', '138618062', '138618262'], ['Fbxl19', 'chr7', '127768548', '127770250', 'chr7', '127768904', '127769104']]\n"
     ]
    }
   ],
   "source": [
    "# Iterate over ChIP-seq file and store information of peaks in list, process data to remove whitepsace    \n",
    "for n in range(0, len(chip_seq_peaks)):\n",
    "    chip_seq_peaks[n] = chip_seq_peaks[n].strip()\n",
    "    chip_seq_peaks[n] = chip_seq_peaks[n].split()\n",
    "    \n",
    "print(chip_seq_peaks[:10])"
   ]
  },
  {
   "cell_type": "code",
   "execution_count": 32,
   "id": "29623ee3",
   "metadata": {},
   "outputs": [],
   "source": [
    "# Function to retrieve ChIP-seq peak information of defined gene set\n",
    "# something is wrong with counters!\n",
    "\n",
    "\n",
    "def construct_peak_collection(genes, chip_peaks, output_list):\n",
    "    k = 0\n",
    "    for line in range(len(genes)):\n",
    "        i = 0\n",
    "        for line in range(len(chip_peaks)):\n",
    "            if genes[k] == chip_peaks[i][0]:\n",
    "                output_list.append([chip_peaks[i][1], chip_peaks[i][2], chip_peaks[i][3], chip_peaks[i][0]])\n",
    "            i += 1\n",
    "        k += 1\n",
    "    return output_list"
   ]
  },
  {
   "cell_type": "code",
   "execution_count": 36,
   "id": "8408549b",
   "metadata": {},
   "outputs": [],
   "source": [
    "# Create list for ChIP-seq (whole) peaks with : Gene ID, chr, peak start, peak stop\n",
    "j = 0\n",
    "chip_seq_whole_peaks = []\n",
    "\n",
    "for n in range(0, len(chip_seq_peaks)):\n",
    "    chip_seq_whole_peaks.append([chip_seq_peaks[j][0], chip_seq_peaks[j][1], chip_seq_peaks[j][2], chip_seq_peaks[j][3]])\n",
    "    j += 1\n",
    "    \n",
    "#print(chip_seq_whole_peaks[:10])\n",
    "\n",
    "\n",
    "# Store information of ChIP-seq (whole) peaks of upregulated genes in two different lists\n",
    "chip_seq_peaks_Pbx1kd_up = []\n",
    "chip_seq_peaks_Pbx1kd_up = construct_peak_collection(genes_id_up, chip_seq_whole_peaks, chip_seq_peaks_Pbx1kd_up)\n",
    "#print(chip_seq_peaks_Pbx1kd_up[:10])\n",
    "\n",
    "\n",
    "# Save information on (whole) peaks of upregulated genes in output file\n",
    "chip_seq_peaks_Pbx1kd_up_output = open(\"pbx1_chip_rna_pbx1kd/chip_seq_whole_peaks_Pbx1kd_up.bed\", \"w\")\n",
    "\n",
    "def reconstruct_peak_file(chr_peaks_kd_targets):\n",
    "    k = 0\n",
    "    for line in range(len(chr_peaks_kd_targets)):\n",
    "        chip_seq_peaks_Pbx1kd_up_output.write(chr_peaks_kd_targets[k][0] + \"\\t\" + chr_peaks_kd_targets[k][1] + \"\\t\" + chr_peaks_kd_targets[k][2]  + \"\\t\" + chr_peaks_kd_targets[k][3] + \"\\n\")\n",
    "        k += 1\n",
    "    return chip_seq_peaks_Pbx1kd_up_output\n",
    "\n",
    "reconstruct_peak_file(chip_seq_peaks_Pbx1kd_up)\n",
    "chip_seq_peaks_Pbx1kd_up_output.close()\n",
    "\n",
    "\n",
    "\n",
    "# Store information of ChIP-seq (whole) peaks of downregulated genes in two different lists\n",
    "chip_seq_peaks_Pbx1kd_down = []\n",
    "chip_seq_peaks_Pbx1kd_down = construct_peak_collection(genes_id_down, chip_seq_whole_peaks, chip_seq_peaks_Pbx1kd_down)\n",
    "\n",
    "\n",
    "\n",
    "# Save information on (whole) peaks of downregulated genes in output file\n",
    "chip_seq_peaks_Pbx1kd_down_output = open(\"pbx1_chip_rna_pbx1kd/chip_seq_whole_peaks_Pbx1kd_down.bed\", \"w\")\n",
    "\n",
    "def reconstruct_peak_file(chr_peaks_kd_targets):\n",
    "    k = 0\n",
    "    for line in range(len(chr_peaks_kd_targets)):\n",
    "        chip_seq_peaks_Pbx1kd_down_output.write(chr_peaks_kd_targets[k][0] + \"\\t\" + chr_peaks_kd_targets[k][1] + \"\\t\" + chr_peaks_kd_targets[k][2]  + \"\\t\" + chr_peaks_kd_targets[k][3] + \"\\n\")\n",
    "        k += 1\n",
    "    return chip_seq_peaks_Pbx1kd_down_output\n",
    "\n",
    "reconstruct_peak_file(chip_seq_peaks_Pbx1kd_down)\n",
    "chip_seq_peaks_Pbx1kd_down_output.close()"
   ]
  },
  {
   "cell_type": "code",
   "execution_count": 44,
   "id": "a9861eb1",
   "metadata": {},
   "outputs": [
    {
     "name": "stdout",
     "output_type": "stream",
     "text": [
      "[['Gm10655', 'chr9', '61370468', '61370668'], ['Xpo1', 'chr11', '23255740', '23255940'], ['D930016D06Rik', 'chr5', '104571465', '104571665'], ['Slc39a3', 'chr10', '81037299', '81037499'], ['Sp2', 'chr11', '96977668', '96977868'], ['Actr2', 'chr11', '20112899', '20113099'], ['Dcaf4', 'chr12', '83520367', '83520567'], ['Acap2', 'chr16', '31201137', '31201337'], ['Nek7', 'chr1', '138618062', '138618262'], ['Fbxl19', 'chr7', '127768904', '127769104']]\n",
      "[['chr1', '173942666', '173942866', 'Ifi203'], ['chr6', '17968913', '17969113', 'Wnt2'], ['chr6', '18029846', '18030046', 'Wnt2'], ['chr6', '18031674', '18031874', 'Wnt2'], ['chr19', '16593447', '16593647', 'Gna14'], ['chr19', '16484858', '16485058', 'Gna14'], ['chr19', '16540895', '16541095', 'Gna14'], ['chr19', '16598958', '16599158', 'Gna14'], ['chr19', '16442097', '16442297', 'Gna14'], ['chr19', '16529349', '16529549', 'Gna14']]\n"
     ]
    }
   ],
   "source": [
    "# Create list for ChIP-seq (200nt summit) peaks with : Gene ID, chr, peak start, peak stop\n",
    "j = 0\n",
    "chip_seq_200nt_peaks = []\n",
    "\n",
    "for n in range(0, len(chip_seq_peaks)):\n",
    "    chip_seq_200nt_peaks.append([chip_seq_peaks[j][0], chip_seq_peaks[j][4], chip_seq_peaks[j][5], chip_seq_peaks[j][6]])\n",
    "    j += 1\n",
    "    \n",
    "print(chip_seq_200nt_peaks[:10])\n",
    "\n",
    "\n",
    "# Store information of ChIP-seq (200nt summit) peaks of upregulated genes in two different lists\n",
    "chip_seq_peaks_200nt_Pbx1kd_up = []\n",
    "chip_seq_peaks_200nt_Pbx1kd_up = construct_peak_collection(genes_id_up, chip_seq_200nt_peaks, chip_seq_peaks_200nt_Pbx1kd_up)\n",
    "print(chip_seq_peaks_200nt_Pbx1kd_up[:10])\n",
    "\n",
    "\n",
    "# Save information on 200nt summit peaks of upregulated genes in output file\n",
    "chip_seq_peaks_200nt_Pbx1kd_up_output = open(\"pbx1_chip_rna_pbx1kd/chip_seq_200nt_peaks_Pbx1kd_up.bed\", \"w\")\n",
    "\n",
    "def reconstruct_peak_file(chr_peaks_kd_targets):\n",
    "    k = 0\n",
    "    for line in range(len(chr_peaks_kd_targets)):\n",
    "        chip_seq_peaks_200nt_Pbx1kd_up_output.write(chr_peaks_kd_targets[k][0] + \"\\t\" + chr_peaks_kd_targets[k][1] + \"\\t\" + chr_peaks_kd_targets[k][2]  + \"\\t\" + chr_peaks_kd_targets[k][3] + \"\\n\")\n",
    "        k += 1\n",
    "    return chip_seq_peaks_200nt_Pbx1kd_up_output\n",
    "\n",
    "reconstruct_peak_file(chip_seq_peaks_200nt_Pbx1kd_up)\n",
    "chip_seq_peaks_200nt_Pbx1kd_up_output.close()\n",
    "\n",
    "\n",
    "# Store information of ChIP-seq (200nt summit) peaks of downregulated genes in two different lists\n",
    "chip_seq_peaks_200nt_Pbx1kd_down = []\n",
    "chip_seq_peaks_200nt_Pbx1kd_down = construct_peak_collection(genes_id_down, chip_seq_200nt_peaks, chip_seq_peaks_200nt_Pbx1kd_down)\n",
    "\n",
    "\n",
    "\n",
    "# Save information on 200nt summit peaks of downregulated genes in output file\n",
    "chip_seq_peaks_200nt_Pbx1kd_down_output = open(\"pbx1_chip_rna_pbx1kd/chip_seq_200nt_peaks_Pbx1kd_down.bed\", \"w\")\n",
    "\n",
    "def reconstruct_peak_file(chr_peaks_kd_targets):\n",
    "    k = 0\n",
    "    for line in range(len(chr_peaks_kd_targets)):\n",
    "        chip_seq_peaks_200nt_Pbx1kd_down_output.write(chr_peaks_kd_targets[k][0] + \"\\t\" + chr_peaks_kd_targets[k][1] + \"\\t\" + chr_peaks_kd_targets[k][2]  + \"\\t\" + chr_peaks_kd_targets[k][3] + \"\\n\")\n",
    "        k += 1\n",
    "    return chip_seq_peaks_200nt_Pbx1kd_down_output\n",
    "\n",
    "reconstruct_peak_file(chip_seq_peaks_200nt_Pbx1kd_down)\n",
    "chip_seq_peaks_200nt_Pbx1kd_down_output.close()"
   ]
  }
 ],
 "metadata": {
  "kernelspec": {
   "display_name": "Python 3 (ipykernel)",
   "language": "python",
   "name": "python3"
  },
  "language_info": {
   "codemirror_mode": {
    "name": "ipython",
    "version": 3
   },
   "file_extension": ".py",
   "mimetype": "text/x-python",
   "name": "python",
   "nbconvert_exporter": "python",
   "pygments_lexer": "ipython3",
   "version": "3.8.10"
  }
 },
 "nbformat": 4,
 "nbformat_minor": 5
}
