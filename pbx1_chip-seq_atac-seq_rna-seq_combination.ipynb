{
 "cells": [
  {
   "cell_type": "markdown",
   "id": "1d5853dc",
   "metadata": {},
   "source": [
    "## Program name: pbx1_chip-seq_atac-seq_rna-seq_combination\n",
    "\n",
    "- Version: 2023-02-20\n",
    "- Author: Vera Laub\n",
    "- Stage: Currently only copy of PBX1 ChIP-seq + ATAC-seq, RNA-seq not included yet!\n",
    "- Input: \n",
    "1. .txt with PBX1 ChIP-seq motifs (MOTIF_ID, ALT_ID, CONSENSUS, WIDTH, SITES, E-VALUE)\n",
    "2. .txt with ATAC-seq footprinting motifs (ID, Alt ID, p-value, E-value, TP Thresh, TP #, TP (%), FP #, FP (%))\n",
    "3. .txt with RNA-seq aNS WT -> keep working on this!\n",
    "- Output: .txt with combination of information in all 3 files (MOTIF_ID, PBX1 MEME-ChIP ALT_ID, PBX1 MEME-ChIP CONSENSUS, PBX1 MEME-ChIP WIDTH, PBX1 MEME-ChIP SITES, PBX1 MEME-ChIP E-VALUE, ATAC Footprint p-value, ATAC Footprint E-value, ATAC Footprint TP Thresh, ATAC Footprint TP (%), ATAC Footprint FP (%), RNA-seq ENSEMBLE IDs, RNA-seq WT Mean reads)"
   ]
  },
  {
   "cell_type": "code",
   "execution_count": 18,
   "id": "3cf94f3f",
   "metadata": {},
   "outputs": [
    {
     "name": "stdout",
     "output_type": "stream",
     "text": [
      "['MA0782.2\\tPKNOX1\\tNNTGAGTGACAGVNN\\t15\\t74780\\t5.4e-9768\\n', 'MA1114.1\\tPBX3\\tNNNTGAGTGACAGGBNN\\t17\\t73416\\t6.1e-9236\\n', 'MA0774.1\\tMEIS2\\tTTGACAGS\\t8\\t81692\\t2.8e-8927\\n', 'MA0498.2\\tMEIS1\\tHTGACAD\\t7\\t92434\\t1.5e-7946\\n', 'MA0775.1\\tMEIS3\\tDTGACAGS\\t8\\t87467\\t7.3e-7020\\n', 'MA1572.1\\tTGIF2LY\\tTGACAGCTGTCA\\t12\\t42050\\t6.5e-2486\\n', 'MA1571.1\\tTGIF2LX\\tTGACAGCTGTCA\\t12\\t34834\\t3.6e-2311\\n', 'MA0797.1\\tTGIF2\\tTGACAGSTGTCA\\t12\\t17903\\t8.8e-1701\\n', 'MA1644.1\\tNFYC\\tRDCCAATCASN\\t11\\t58768\\t1.1e-1035\\n', 'MA0060.3\\tNFYA\\tRRCCAATCAGM\\t11\\t43266\\t2.5e-1024\\n']\n"
     ]
    }
   ],
   "source": [
    "# Set up list of PBX1 ChIP-seq motifs\n",
    "\n",
    "# Retrieve PBX1 ChIP-seq motifs\n",
    "file = open(\"pbx1_chip_atac_footprinting/PBX1_ChIP-seq_MA_IDs_only.txt\", \"r\")\n",
    "chip_seq_motifs = file.readlines()\n",
    "file.close()\n",
    "\n",
    "print(chip_seq_motifs[:10])"
   ]
  },
  {
   "cell_type": "code",
   "execution_count": 19,
   "id": "2fe433b4",
   "metadata": {},
   "outputs": [
    {
     "name": "stdout",
     "output_type": "stream",
     "text": [
      "[['MA0782.2', 'PKNOX1', 'NNTGAGTGACAGVNN', 15, 74780, 0.0], ['MA1114.1', 'PBX3', 'NNNTGAGTGACAGGBNN', 17, 73416, 0.0], ['MA0774.1', 'MEIS2', 'TTGACAGS', 8, 81692, 0.0], ['MA0498.2', 'MEIS1', 'HTGACAD', 7, 92434, 0.0], ['MA0775.1', 'MEIS3', 'DTGACAGS', 8, 87467, 0.0], ['MA1572.1', 'TGIF2LY', 'TGACAGCTGTCA', 12, 42050, 0.0], ['MA1571.1', 'TGIF2LX', 'TGACAGCTGTCA', 12, 34834, 0.0], ['MA0797.1', 'TGIF2', 'TGACAGSTGTCA', 12, 17903, 0.0], ['MA1644.1', 'NFYC', 'RDCCAATCASN', 11, 58768, 0.0], ['MA0060.3', 'NFYA', 'RRCCAATCAGM', 11, 43266, 0.0]]\n"
     ]
    }
   ],
   "source": [
    "# Iterate over PBX1 ChIP-seq motifs and store information in list, process data to remove whitepsace    \n",
    "for n in range(0, len(chip_seq_motifs)):\n",
    "    chip_seq_motifs[n] = chip_seq_motifs[n].strip()\n",
    "    chip_seq_motifs[n] = chip_seq_motifs[n].split()\n",
    "    chip_seq_motifs[n][3] = int(chip_seq_motifs[n][3])\n",
    "    chip_seq_motifs[n][4] = int(chip_seq_motifs[n][4])\n",
    "    chip_seq_motifs[n][5] = float(chip_seq_motifs[n][5])\n",
    "\n",
    "print(chip_seq_motifs[:10])"
   ]
  },
  {
   "cell_type": "code",
   "execution_count": 49,
   "id": "f5fbaa30",
   "metadata": {},
   "outputs": [
    {
     "name": "stdout",
     "output_type": "stream",
     "text": [
      "['MA0084.1\\tSRY\\t5.52e-2497\\t4.19e-2494\\t1.01\\t46775 (56.7%)\\t484 (4.8%)\\n', 'MA0703.1\\tLMX1B\\t5.25e-2469\\t3.98e-2466\\t1.01\\t42889 (52.0%)\\t240 (2.4%)\\n', 'MA0893.1\\tGSX2\\t1.88e-2394\\t1.43e-2391\\t1.01\\t42498 (51.5%)\\t265 (2.6%)\\n', 'MA1152.1\\tSOX15\\t1.34e-2272\\t1.02e-2269\\t1.01\\t51271 (62.2%)\\t1066 (10.6%)\\n', 'MA0892.1\\tGSX1\\t1.05e-2240\\t7.94e-2238\\t1.01\\t40399 (49.0%)\\t241 (2.4%)\\n', 'MA0722.1\\tVAX1\\t1.67e-2235\\t1.26e-2232\\t1.01\\t40643 (49.3%)\\t259 (2.6%)\\n', 'MA0879.1\\tDlx1\\t2.30e-2224\\t1.74e-2221\\t1.01\\t40467 (49.1%)\\t256 (2.5%)\\n', 'MA0675.1\\tNKX6-2\\t6.51e-2202\\t4.94e-2199\\t1.01\\t40412 (49.0%)\\t268 (2.7%)\\n', 'MA0109.1\\tHLTF\\t1.24e-2162\\t9.41e-2160\\t1\\t42230 (51.2%)\\t414 (4.1%)\\n', 'MA0902.1\\tHOXB2\\t2.00e-2109\\t1.52e-2106\\t1.01\\t39078 (47.4%)\\t252 (2.5%)\\n']\n"
     ]
    }
   ],
   "source": [
    "# Set up list of ATAC-seq footprinting motifs\n",
    "\n",
    "# Retrieve ATAC-seq footprinting motifs\n",
    "file = open(\"pbx1_chip_atac_footprinting/ATAC-seq_aNS_footprinting_MA_IDs_only.txt\", \"r\")\n",
    "atac_seq_motifs = file.readlines()\n",
    "file.close()\n",
    "\n",
    "print(atac_seq_motifs[:10])"
   ]
  },
  {
   "cell_type": "code",
   "execution_count": 50,
   "id": "fdeb4504",
   "metadata": {},
   "outputs": [
    {
     "name": "stdout",
     "output_type": "stream",
     "text": [
      "[['MA0084.1', 'SRY', '5.52e-2497', '4.19e-2494', '1.01', '46775', '(56.7%)', '484', '(4.8%)'], ['MA0703.1', 'LMX1B', '5.25e-2469', '3.98e-2466', '1.01', '42889', '(52.0%)', '240', '(2.4%)'], ['MA0893.1', 'GSX2', '1.88e-2394', '1.43e-2391', '1.01', '42498', '(51.5%)', '265', '(2.6%)'], ['MA1152.1', 'SOX15', '1.34e-2272', '1.02e-2269', '1.01', '51271', '(62.2%)', '1066', '(10.6%)'], ['MA0892.1', 'GSX1', '1.05e-2240', '7.94e-2238', '1.01', '40399', '(49.0%)', '241', '(2.4%)'], ['MA0722.1', 'VAX1', '1.67e-2235', '1.26e-2232', '1.01', '40643', '(49.3%)', '259', '(2.6%)'], ['MA0879.1', 'Dlx1', '2.30e-2224', '1.74e-2221', '1.01', '40467', '(49.1%)', '256', '(2.5%)'], ['MA0675.1', 'NKX6-2', '6.51e-2202', '4.94e-2199', '1.01', '40412', '(49.0%)', '268', '(2.7%)'], ['MA0109.1', 'HLTF', '1.24e-2162', '9.41e-2160', '1', '42230', '(51.2%)', '414', '(4.1%)'], ['MA0902.1', 'HOXB2', '2.00e-2109', '1.52e-2106', '1.01', '39078', '(47.4%)', '252', '(2.5%)']]\n"
     ]
    }
   ],
   "source": [
    "# Iterate over ATAC-seq footprinting motifs and store information in list, process data to remove whitepsace    \n",
    "for n in range(0, len(atac_seq_motifs)):\n",
    "    atac_seq_motifs[n] = atac_seq_motifs[n].strip()\n",
    "    atac_seq_motifs[n] = atac_seq_motifs[n].split()\n",
    "    #atac_seq_motifs[n][2] = float(atac_seq_motifs[n][2])\n",
    "    #atac_seq_motifs[n][3] = float(atac_seq_motifs[n][3])\n",
    "    #atac_seq_motifs[n][4] = float(atac_seq_motifs[n][4])\n",
    "   # atac_seq_motifs[n][5] = float(atac_seq_motifs[n][5])\n",
    "\n",
    "print(atac_seq_motifs[:10])"
   ]
  },
  {
   "cell_type": "code",
   "execution_count": 52,
   "id": "1e8a30b5",
   "metadata": {},
   "outputs": [
    {
     "name": "stdout",
     "output_type": "stream",
     "text": [
      "[['MOTIF_ID', 'PBX1 MEME-ChIP ALT_ID', 'PBX1 MEME-ChIP CONSENSUS', 'PBX1 MEME-ChIP WIDTH', 'PBX1 MEME-ChIP SITES', 'PBX1 MEME-ChIP E-VALUE', 'ATAC Footprint p-value', 'ATAC Footprint E-value', 'ATAC Footprint TP Threshold', 'ATAC Footprint TP #', 'ATAC Footprint TP (%)', 'ATAC Footprint FP #', 'ATAC Footprint FP (%)'], ['MA1114.1', 'PBX3', 'NNNTGAGTGACAGGBNN', 17, 73416.0, 0.0, '5.29E-67', '4.01E-64', '1.03', '25990', '(31.5%)', '2316', '(23.0%)'], ['MA0774.1', 'MEIS2', 'TTGACAGS', 8, 81692.0, 0.0, '0.00E+00', '0.00E+00', '1.01', '31860', '(38.6%)', '2006', '(19.9%)'], ['MA0498.2', 'MEIS1', 'HTGACAD', 7, 92434.0, 0.0, '1.74e-1139', '1.32e-1136', '1', '42576', '(51.6%)', '1528', '(15.2%)'], ['MA0775.1', 'MEIS3', 'DTGACAGS', 8, 87467.0, 0.0, '9.45e-543', '7.18e-540', '1.01', '34023', '(41.2%)', '1693', '(16.8%)'], ['MA0797.1', 'TGIF2', 'TGACAGSTGTCA', 12, 17903.0, 0.0, '3.10E-121', '2.35E-118', '1.04', '9155', '(11.1%)', '422', '(4.2%)'], ['MA0070.1', 'PBX1', 'HCATCAATCAAW', 12, 25644.0, 0.0, '8.39e-374', '6.37e-371', '1.02', '14079', '(17.1%)', '337', '(3.4%)'], ['MA0783.1', 'PKNOX2', 'TGACAGGTGTCA', 12, 6832.0, 0.0, '4.96E-65', '3.76E-62', '1.05', '6167', '(7.5%)', '320', '(3.2%)'], ['MA0796.1', 'TGIF1', 'TGACAGCTGTCA', 12, 3343.0, 0.0, '4.58E-63', '3.47E-60', '1.05', '5062', '(6.1%)', '235', '(2.3%)'], ['MA0705.1', 'Lhx8', 'CTAATTAV', 8, 37351.0, 0.0, '4.79e-1058', '3.64e-1055', '1.01', '30765', '(37.3%)', '629', '(6.3%)']]\n"
     ]
    }
   ],
   "source": [
    "# Function to combine motif information of PBX1 ChIP-seq and ATAC-seq footprinting motifs \n",
    "\n",
    "def motif_combination(chip_motifs, atac_motifs, output_list):\n",
    "    k = 0\n",
    "    for line in range(len(chip_motifs)):\n",
    "        i = 0\n",
    "        for line in range(len(atac_motifs)):\n",
    "            if chip_motifs[k][0] == atac_motifs[i][0]:\n",
    "                output_list.append([chip_motifs[k][0], \\\n",
    "                                    chip_motifs[k][1], \\\n",
    "                                    chip_motifs[k][2], \\\n",
    "                                    chip_motifs[k][3], \\\n",
    "                                    chip_motifs[k][4], \\\n",
    "                                    chip_motifs[k][5], \\\n",
    "                                    atac_motifs[i][2], \\\n",
    "                                    atac_motifs[i][3], \\\n",
    "                                    atac_motifs[i][4], \\\n",
    "                                    atac_motifs[i][5], \\\n",
    "                                    atac_motifs[i][6], \\\n",
    "                                    atac_motifs[i][7], \\\n",
    "                                    atac_motifs[i][8]])\n",
    "            i += 1\n",
    "        k += 1\n",
    "    return output_list\n",
    "                                    \n",
    "\n",
    "# Define output list for collected motifs and store information in this list (of lists)\n",
    "combined_motif_list = [[\"MOTIF_ID\", \"PBX1 MEME-ChIP ALT_ID\", \"PBX1 MEME-ChIP CONSENSUS\", \"PBX1 MEME-ChIP WIDTH\",\\\n",
    "                       \"PBX1 MEME-ChIP SITES\", \"PBX1 MEME-ChIP E-VALUE\", \"ATAC Footprint p-value\", \\\n",
    "                       \"ATAC Footprint E-value\", \"ATAC Footprint TP Threshold\", \"ATAC Footprint TP #\", \\\n",
    "                       \"ATAC Footprint TP (%)\", \"ATAC Footprint FP #\", \"ATAC Footprint FP (%)\"]]\n",
    "combined_motif_list = motif_combination(chip_seq_motifs, atac_seq_motifs, combined_motif_list)\n",
    "\n",
    "print(combined_motif_list[:10])"
   ]
  },
  {
   "cell_type": "code",
   "execution_count": 53,
   "id": "81cf64ed",
   "metadata": {},
   "outputs": [],
   "source": [
    "# Save combined information on PBX1 ChIP-seq and ATAC-seq footprint motifs in output file\n",
    "pbx1_chip_seq_atac_seq_footprint_output = open(\"pbx1_chip_atac_footprinting/pbx1_chip_seq_atac_seq_footprint_aNS.txt\", \"w\")\n",
    "\n",
    "def construct_combination_motif_file(combined_motifs):\n",
    "    k = 0\n",
    "    for line in range(len(combined_motifs)):\n",
    "        pbx1_chip_seq_atac_seq_footprint_output.write(str(combined_motifs[k][0]) + \"\\t\" + \\\n",
    "                                                      str(combined_motifs[k][1]) + \"\\t\" + \\\n",
    "                                                      str(combined_motifs[k][2]) + \"\\t\" + \\\n",
    "                                                      str(combined_motifs[k][3]) + \"\\t\" + \\\n",
    "                                                      str(combined_motifs[k][4]) + \"\\t\" + \\\n",
    "                                                      str(combined_motifs[k][5]) + \"\\t\" + \\\n",
    "                                                      str(combined_motifs[k][6]) + \"\\t\" + \\\n",
    "                                                      str(combined_motifs[k][7]) + \"\\t\" + \\\n",
    "                                                      str(combined_motifs[k][8]) + \"\\t\" + \\\n",
    "                                                      str(combined_motifs[k][9]) + \"\\t\" + \\\n",
    "                                                      str(combined_motifs[k][10]) + \"\\t\" + \\\n",
    "                                                      str(combined_motifs[k][11]) + \"\\t\" + \\\n",
    "                                                      str(combined_motifs[k][12]) + \"\\n\")\n",
    "        k += 1\n",
    "    return pbx1_chip_seq_atac_seq_footprint_output\n",
    "\n",
    "construct_combination_motif_file(combined_motif_list)\n",
    "pbx1_chip_seq_atac_seq_footprint_output.close()"
   ]
  }
 ],
 "metadata": {
  "kernelspec": {
   "display_name": "Python 3 (ipykernel)",
   "language": "python",
   "name": "python3"
  },
  "language_info": {
   "codemirror_mode": {
    "name": "ipython",
    "version": 3
   },
   "file_extension": ".py",
   "mimetype": "text/x-python",
   "name": "python",
   "nbconvert_exporter": "python",
   "pygments_lexer": "ipython3",
   "version": "3.8.10"
  }
 },
 "nbformat": 4,
 "nbformat_minor": 5
}
